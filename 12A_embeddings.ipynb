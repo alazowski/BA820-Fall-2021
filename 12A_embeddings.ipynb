{
  "nbformat": 4,
  "nbformat_minor": 0,
  "metadata": {
    "colab": {
      "name": "12A-embeddings",
      "provenance": [],
      "collapsed_sections": [],
      "include_colab_link": true
    },
    "kernelspec": {
      "name": "python3",
      "display_name": "Python 3"
    },
    "language_info": {
      "name": "python"
    }
  },
  "cells": [
    {
      "cell_type": "markdown",
      "metadata": {
        "id": "view-in-github",
        "colab_type": "text"
      },
      "source": [
        "<a href=\"https://colab.research.google.com/github/alazowski/BA820-Fall-2021/blob/main/12A_embeddings.ipynb\" target=\"_parent\"><img src=\"https://colab.research.google.com/assets/colab-badge.svg\" alt=\"Open In Colab\"/></a>"
      ]
    },
    {
      "cell_type": "code",
      "metadata": {
        "id": "ayhaQ8AcPFHx"
      },
      "source": [
        "##############################################################################\n",
        "## Fundamentals for pratical Text Analytics - document/word embeddings\n",
        "##                                            more spacy, \n",
        "##                                            gensim to build our own ----> spacy\n",
        "##                                            why:  dense numeric representations to capture meaning\n",
        "##                                                  use downstream -> similarity, clustering, ML\n",
        "##\n",
        "##\n",
        "## Learning goals:\n",
        "##                 - continue spacy\n",
        "##                 - foundational understanding of word vectors via Word2Vec\n",
        "##                 - can roll our own vectors\n",
        "##                 - generalized, pre-trained word vectors for S|UML tasks (intent classification)\n",
        "##\n",
        "##\n",
        "## Great resources\n",
        "##                 - https://spacy.io/usage/spacy-101\n",
        "##                 - https://spacy.io/universe/category/courses\n",
        "##\n",
        "##\n",
        "##############################################################################"
      ],
      "execution_count": null,
      "outputs": []
    },
    {
      "cell_type": "code",
      "metadata": {
        "id": "j_R7-hTzQyzQ"
      },
      "source": [
        "# installs\n",
        "! pip install -U spacy \n",
        "! pip install -U textacy\n",
        "! pip install newspaper3k\n",
        "! pip install afinn\n",
        "! pip install whatlies"
      ],
      "execution_count": null,
      "outputs": []
    },
    {
      "cell_type": "code",
      "metadata": {
        "id": "0nCDfEpzQy3_"
      },
      "source": [
        "# imports\n",
        "import spacy\n",
        "from spacy import cli\n",
        "from spacy import displacy\n",
        "\n",
        "import pandas as pd\n",
        "import numpy as np\n",
        "from scipy.spatial.distance import pdist, cdist, squareform\n",
        "import seaborn as sns\n",
        "\n",
        "\n",
        "# upcoming!\n",
        "# from textacy.extract.keyterms import textrank\n",
        "import gensim\n",
        "\n",
        "import textacy\n",
        "\n",
        "from newspaper import Article\n",
        "import json\n",
        "\n",
        "from afinn import Afinn\n"
      ],
      "execution_count": 20,
      "outputs": []
    },
    {
      "cell_type": "code",
      "metadata": {
        "id": "xpCbWS6RE6TN",
        "outputId": "6964c63d-0baf-45c1-f222-2598272ea758",
        "colab": {
          "base_uri": "https://localhost:8080/"
        }
      },
      "source": [
        "# use spacy cli\n",
        "MODEL = \"en_core_web_md\"\n",
        "\n",
        "# https://spacy.io/models/en\n",
        "cli.download(MODEL)\n",
        "\n",
        "# nlp = language model\n",
        "nlp = spacy.load(MODEL)"
      ],
      "execution_count": 80,
      "outputs": [
        {
          "output_type": "stream",
          "name": "stdout",
          "text": [
            "\u001b[38;5;2m✔ Download and installation successful\u001b[0m\n",
            "You can now load the package via spacy.load('en_core_web_md')\n"
          ]
        }
      ]
    },
    {
      "cell_type": "code",
      "metadata": {
        "id": "N60MZcqlQr4c"
      },
      "source": [
        "############################################ WARMUP\n",
        "##\n",
        "##\n",
        "## Scrape the Wikipedia Entry for the Netflix series Squid Game\n",
        "URL = \"https://en.wikipedia.org/wiki/Squid_Game\"\n",
        "##\n",
        "## use the pre-loaded spacy NER model to parse the entities\n",
        "## parse the entities into a dataframe\n",
        "## create a barplot summarizing count by entity type\n",
        "## TRICKY:  make it a horizontal barplot with the most frequent entity at the top of the chart\n",
        "## "
      ],
      "execution_count": 5,
      "outputs": []
    },
    {
      "cell_type": "code",
      "metadata": {
        "id": "nO0P9S-TQrsM"
      },
      "source": [
        "articles = []\n",
        "\n",
        "# # setup the article\n",
        "article = Article(URL)\n",
        "\n",
        "# # get the page\n",
        "article.download()\n",
        "\n",
        "# # parse it -- extracts all sorts of info\n",
        "article.parse()"
      ],
      "execution_count": 9,
      "outputs": []
    },
    {
      "cell_type": "code",
      "metadata": {
        "id": "LHuNJ545RmXm",
        "outputId": "c91dc5c2-d941-4735-8e1e-b2af58201160",
        "colab": {
          "base_uri": "https://localhost:8080/"
        }
      },
      "source": [
        "ag = (article.text)\n",
        "type(ag)"
      ],
      "execution_count": 81,
      "outputs": [
        {
          "output_type": "execute_result",
          "data": {
            "text/plain": [
              "str"
            ]
          },
          "metadata": {},
          "execution_count": 81
        }
      ]
    },
    {
      "cell_type": "code",
      "metadata": {
        "id": "prsU8Wv1Rmb9",
        "outputId": "40c34182-b922-47df-e2fe-ee15b33c2dea",
        "colab": {
          "base_uri": "https://localhost:8080/",
          "height": 123
        }
      },
      "source": [
        "ag"
      ],
      "execution_count": 15,
      "outputs": [
        {
          "output_type": "execute_result",
          "data": {
            "application/vnd.google.colaboratory.intrinsic+json": {
              "type": "string"
            },
            "text/plain": [
              "'2021 South Korean survival drama television series\\n\\nThis article is about the Netflix television series. For the Korean children\\'s game, see Squid (game) . For the video game, see Squids (video game)\\n\\nSquid Game (Korean: 오징어 게임; RR: Ojing-eo Geim) is a South Korean survival drama streaming television series created by Hwang Dong-hyuk for Netflix. Its cast includes Lee Jung-jae, Park Hae-soo, Wi Ha-joon, Jung Ho-yeon, O Yeong-su, Heo Sung-tae, Anupam Tripathi, and Kim Joo-ryoung.\\n\\nThe series revolves around a contest where 456 players, all of whom are in deep financial debt, risk their lives to play a series of deadly children\\'s games for the chance to win a ₩45.6 billion[a] prize. The title of the series draws from a similarly named Korean children\\'s game. Hwang had conceived of the idea based on his own economic struggles early in life, as well as the class disparity in South Korea and capitalism. Though he had initially written it in 2009, he was unable to find a production company to fund the idea until Netflix took an interest around 2019 as part of their drive to expand their foreign programming offerings. All nine episodes were written and directed by Hwang.\\n\\nSquid Game was released worldwide on September 17, 2021, to critical acclaim and international attention. As of November 2021 , it is Netflix\\'s most-watched series, becoming the top-viewed program in 94 countries and attracting more than 142 million member households and amassing 1.65 billion viewing hours during its first four weeks from launch, outperforming Bridgerton.\\n\\nPremise\\n\\nSeong Gi-hun, a divorced father and indebted gambler who lives with his elderly mother, is invited to play a series of children\\'s games for a chance at a large cash prize. Accepting the offer, he is taken to an unknown location where he finds himself among 456 players who are all deeply in debt. The players are made to wear green tracksuits and are kept under watch at all times by masked guards in pink jumpsuits, with the games overseen by the Front Man, who wears a black mask and black uniform. The players soon discover that losing a game results in their death, with each death adding ₩100 million to the potential ₩45.6 billion grand prize.[a] Gi-hun allies with other players, including his childhood friend Cho Sang-woo, to try to survive the physical and psychological twists of the games.[3][4]\\n\\nCast and characters\\n\\nMain cast\\n\\nNumbers in parentheses denote the character\\'s assigned number in the Squid Game.\\n\\nRecurring cast\\n\\nYoo Sung-joo as Byeong-gi (111), [11] a doctor who secretly works with a group of corrupt guards to traffic the organs of dead participants in exchange for information on upcoming games.\\n\\na doctor who secretly works with a group of corrupt guards to traffic the organs of dead participants in exchange for information on upcoming games. Lee Yoo-mi as Ji-yeong (240), [12] a young woman who has just been released from prison after killing her abusive step-father.\\n\\na young woman who has just been released from prison after killing her abusive step-father. Kim Si-hyun as Player 244, a pastor who rediscovers his faith during the game.\\n\\nLee Sang-hee as Player 017, [13] a glassmaker.\\n\\na glassmaker. Kim Yun-tae as Player 069, a player who joins the game with his wife, Player 070.\\n\\nLee Ji-ha as Player 070, [14] a player who joins the game with her husband, Player 069.\\n\\na player who joins the game with her husband, Player 069. Kwak Ja-hyoung as Player 278, a player who joins Deok-su\\'s group and acts as his henchman.\\n\\nChristian Lagahit as Player 276, [15] [16] a player who joins Seong Gi-hun\\'s group in the Tug of War round.\\n\\na player who joins Seong Gi-hun\\'s group in the Tug of War round. Kim Young-ok as Gi-hun\\'s mother [17]\\n\\nCho Ah-in as Seong Ga-yeong, Gi-hun\\'s daughter\\n\\nKang Mal-geum as Gi-hun\\'s ex-wife and Ga-yeong\\'s mother [17]\\n\\nPark Hye-jin as Sang-woo\\'s mother\\n\\nPark Si-wan as Kang Cheol, Sae-byeok\\'s younger brother\\n\\nGuest cast\\n\\nGong Yoo as a salesman who recruits participants for the Game [18]\\n\\nLee Byung-hun as The Front Man, overseer of the Squid Game [19]\\n\\nLee Jung-jun as Guard [20]\\n\\nJohn D Michaels as VIP #1 [21]\\n\\nDaniel C Kennedy as VIP #2 [21]\\n\\nDavid Lee as VIP #3 [22]\\n\\nGeoffrey Giuliano as VIP #4 [21]\\n\\nStephane Mot as VIP #5 [22]\\n\\nMichael Davis as VIP #6[22]\\n\\nEpisodes\\n\\nSquid Game consists of one season of nine episodes at a run time of between 32 and 63 minutes (the penultimate episode is much shorter than the rest). The series was released in its entirety in all Netflix worldwide markets on September 17, 2021.[23][24]\\n\\nNo. Title Directed by Written by Original release date 1 \"Red Light, Green Light\" (Mugunghwa Kkoch-i Pideon Nal 무궁화 꽃이 피던 날 )[b] Hwang Dong-hyuk Hwang Dong-hyuk September 17, 2021 ( ) Seong Gi-hun is down on his luck, having accumulated enormous debts with loan sharks while becoming estranged from his daughter and ex-wife. At a train station, a well-dressed man asks him to play a game of ddakji for money, and offers an opportunity to play more games with much higher stakes. Gi-hun accepts, is knocked unconscious, and awakens in a dormitory with 455 others, identified only by numbers on their tracksuits. A group of masked staff in pink jumpsuits arrive and explain that the players are all in dire financial straits, but will be given billions of won in prize money if they can win six games over six days. The games are overseen by the Front Man, who is masked and dressed in black. Gi-hun befriends Player 001, an elderly man suffering from a brain tumor. He also recognizes two other players: Cho Sang-woo, a childhood classmate who became an investment broker, and Player 067, a pickpocket who stole Gi-hun\\'s money after he won a horse race wager. The first game is a deadly iteration of Red Light, Green Light, where anyone caught moving is shot dead on the spot. With help from Sang-woo and Player 199, Gi-hun finishes the game alive. 2 \"Hell\" (Ji-ok 지옥 ) Hwang Dong-hyuk Hwang Dong-hyuk September 17, 2021 ( ) With over half of the players killed in the first game, many survivors demand to be released. Using the game\\'s third clause, they successfully vote to cancel the game and send everyone home, but without any prize money. Back in Seoul, Gi-hun goes to the police, but no one believes him except Detective Hwang Jun-ho, whose brother received the same invitation card and has recently disappeared. The players are invited to re-enter the game, and many return out of desperation. This includes Gi-hun, whose mother needs surgery; Sang-woo, who is about to be arrested for financial fraud; Player 001, who does not wish to die in the outside world; Player 067, who wishes to rescue her parents from North Korea and get her little brother out of an orphanage; Player 199, a Pakistani migrant worker who attacked and gravely injured his boss for withholding his wages; and Player 101, named Jang Deok-su, a gangster on the run from gambling debts. Jun-ho secretly follows Gi-hun when he is picked up by the game staff. 3 \"The Man with the Umbrella\" (Usan-eul Sseun Namja 우산을 쓴 남자 ) Hwang Dong-hyuk Hwang Dong-hyuk September 17, 2021 ( ) Jun-ho successfully infiltrates the games by disguising himself as a masked worker, and it is revealed that the location is a remote island. The players are now more prepared and start forming alliances. Gi-hun, Sang-woo, Player 001, and Player 199 team up. Player 067 explores an air vent and witnesses workers melting pots of sugar. The second game is revealed to be Ppopgi, where each player must perfectly extract a stamped shape from a dalgona (honeycomb candy) under a 10 minute time limit. Sang-woo learns of Player 067\\'s discovery and recognizes the game beforehand, but does not warn his teammates and chooses the simplest shape for himself. Gi-hun ends up picking the most difficult shape, an umbrella, but is able to complete the game by licking the back of the honeycomb to melt it. Player 212, a rowdy and manipulative woman, helps Deok-su complete the game with a smuggled lighter. A scared player who is about to be executed takes a staff member hostage and forces him to unmask. Shocked that the staff member is a young man, the player shoots himself, and the staff member is killed by the Front Man for revealing his identity. 4 \"Stick to the Team\" (Jjollyeodo Pyeonmeokgi 쫄려도 편먹기 ) Hwang Dong-hyuk Hwang Dong-hyuk September 17, 2021 ( ) Player 111, a disgraced doctor, secretly works with a handful of staff to harvest organs from dead players to sell on the black market, in return for information on upcoming games. When Deok-su kills a player accusing him of taking extra food, the staff does nothing to stop him, and the prize money\\'s value is increased. After lights out, a riot erupts in the dormitory as players attack each other. Gi-hun\\'s group survives and exchange names to build trust: Player 199 is Ali Abdul, and Player 067 is Kang Sae-byeok. Player 001, because of his brain tumor, has trouble remembering his name. Player 212, named Han Mi-nyeo, has sex with Deok-su. In the third game, players are told to form groups of ten. For Gi-hun\\'s team, Sae-byeok recruits Player 240, a girl close to her age. The game is revealed to be tug of war on two raised platforms, where a team wins by dragging the opposing team off the platform to their deaths. Deok-su, having learned of the game from Player 111 beforehand, picks only strong men and rejects Mi-nyeo, who joins Gi-hun\\'s team. After Deok-su\\'s team wins their match, Gi-hun\\'s team struggles against another all-male team. 5 \"A Fair World\" (Pyeongdeung-han Sesang 평등한 세상 ) Hwang Dong-hyuk Hwang Dong-hyuk September 17, 2021 ( ) Gi-hun\\'s team wins their tug-of-war match with Player 001\\'s strategy and Sang-woo\\'s quick thinking. Anticipating another riot, they build a barricade and spend the night taking turns on guard, but Deok-su\\'s team does not attack. Gi-hun reminisces on a similar situation from ten years ago, when he and many other workers from an automobile factory protested a mass lay-off, which caused the failed trajectory of Gi-hun\\'s life. Jun-ho witnesses the organ harvesting racket, as the staff member whose identity he stole took part in it. Except Jun-ho, everyone involved in the racket is eventually killed, including Player 111. The Front Man begins a facility-wide manhunt for Jun-ho, who breaks into the Front Man\\'s office. Jun-ho learns that the game has been running for over 30 years, and that his elder brother Hwang In-ho was the winner in 2015. 6 \"Gganbu\" (Kkanbu 깐부 ) Hwang Dong-hyuk Hwang Dong-hyuk September 17, 2021 ( ) The players see the bodies of Player 111 and his co-conspirators strung up for cheating, and are assured that the games are designed to give every player a fair chance without discrimination. For the fourth game, players are told to pair up, but discover that instead of working as a team, they will have to play against their partner in a marble game of their choice. Whoever gets all their partner\\'s marbles within 30 minutes will win and survive. Sae-byeok and Player 240, named Ji-yeong, share their life stories; Ji-yeong sees Sae-byeok has more to live for and sacrifices herself. Sang-woo tricks Ali into giving up his marbles and wins, which results in Ali\\'s death. Deok-su wins against his partner and henchman, Ja-hyoung. Gi-hun exploits Player 001\\'s dementia to defeat him, only to discover that Player 001 had been aware of the deception the entire time. Player 001, who remembers his name to be Oh Il-nam, allows Gi-hun to win anyway, as he is his gganbu (trusted friend). Gi-hun, Sang-woo and Sae-byeok are traumatized by the deaths of their friends. 7 \"VIPS\" Hwang Dong-hyuk Hwang Dong-hyuk September 17, 2021 ( ) The players return to find Mi-nyeo, who did not have a partner for the marbles game, still alive. Foreign VIPs, who had been wagering on the games remotely, arrive to watch and wager on the next rounds live. Jun-ho, posing as one of the masked servants, is sexually propositioned by one of them. In a private room, he attacks the VIP, records his confession, and escapes the island. Meanwhile, the fifth game has players crossing a two-panel wide bridge, where the panels are each made of either tempered or regular glass, the latter of which cannot support their weight. The players at the front of the line fall to their deaths as they progressively test the panels. Deok-su refuses to move despite the clock ticking, daring others to pass him. Mi-nyeo grabs him and, as revenge for betraying her, pulls him down with her to their deaths. Player 017, a seasoned glass worker, is able to determine which panels are safe until the Front Man turns off the lights, removing his advantage. With time running out, Sang-woo pushes Player 017 to his death, revealing the last trick panel. Only Gi-hun, Sang-woo, and Sae-byeok complete the game; at its conclusion, explosions shatter the remaining panels and injure the three players. 8 \"Front Man\" (Peulonteu Maen 프론트맨 ) Hwang Dong-hyuk Hwang Dong-hyuk September 17, 2021 ( ) As finalists, Gi-hun, Sang-woo, and Sae-byeok are given a change of formal clothes. Sae-byeok hides a severe stab wound she received from the glass bridge explosion. After eating dinner, each player is left with a steak knife. Gi-hun suggests to Sae-byeok that they should ally against Sang-woo, realizing he will go to any length to win. Sae-byeok instead begs Gi-hun to promise that whoever wins the game will look after the other\\'s loved ones. Gi-hun goes to kill Sang-woo when he falls asleep, but Sae-byeok stops him, telling him he is not a murderer. Sae-byeok\\'s injury worsens, prompting Gi-hun to call for help. When Gi-hun is away, Sang-woo kills Sae-byeok and the staff arrive only to collect her corpse. Furious and heartbroken, Gi-hun tries to attack Sang-woo but is prevented by the staff. Meanwhile, Jun-ho makes it to another island but is quickly tracked down by the Front Man and the staff. To Jun-ho\\'s shock, the Front Man reveals himself to be his brother, In-ho, who tries to recruit him. When he refuses, In-ho shoots Jun-ho in the shoulder, causing him to fall back over a cliff edge into the sea. 9 \"One Lucky Day\" (Unsu Joeun Nal 운수 좋은 날 )[c] Hwang Dong-hyuk Hwang Dong-hyuk September 17, 2021 ( ) In the final eponymous Squid game, Gi-hun defeats Sang-woo after a brutal fight but refuses to kill him; he begs Sang-Woo to stop the game using the third clause. Sang-woo instead stabs himself in the neck, and asks Gi-hun to take care of his mother before dying. Gi-hun is returned to Seoul with a bank card to access the prize money, but discovers his own mother has died. A year later, Gi-hun remains traumatized and has not touched his prize money. He receives an invitation card from his gganbu, and finds Oh Il-nam on his deathbed. Il-nam reveals he created the game to entertain bored ultra-rich people like himself. He chose games he played as a child, and participated in Gi-hun\\'s group out of nostalgia. As they talk, Il-nam wagers with Gi-hun on whether an unconscious man lying on a street corner will be helped before midnight. The man is saved, and Il-nam dies shortly after. Gi-hun retrieves Sae-byeok\\'s brother and has him looked after by Sang-woo\\'s mother, also giving them a share of the prize money. As Gi-hun travels to the airport to reconnect with his daughter in Los Angeles, he sees the same game recruiter playing ddakji with another desperate player, but manages only to get that player\\'s invitation card. He calls the card\\'s number before boarding his plane, demanding to know who is running the games. He is curtly ordered to get on the plane, but he ends the call and returns to the airport terminal.\\n\\nProduction\\n\\nDevelopment\\n\\nAround 2008, Hwang Dong-hyuk had tried unsuccessfully to get investment for a different movie script that he had written, and he, his mother, and his grandmother had to take out loans to stay afloat, but still struggled amid the debt crisis within the country.[26][27][d] He spent his free time in a Manhwabang (South Korean manga cafes) reading Japanese survival manga such as Battle Royale, Liar Game and Gambling Apocalypse: Kaiji.[29][30][31][32] Hwang compared the characters\\' situation in these works to his own current situation and considered the idea of being able to join such a survival game to win money to get him out of debt, leading him to write a film script on that concept throughout 2009.[32] Hwang stated, \"I wanted to write a story that was an allegory or fable about modern capitalist society, something that depicts an extreme competition, somewhat like the extreme competition of life. But I wanted it to use the kind of characters we’ve all met in real life.\"[33] Hwang feared the storyline was \"too difficult to understand and bizarre\" at the time.[29] Hwang tried to sell his story to various Korean production groups and actors, but had been told it was too grotesque and unrealistic.[34] Hwang put this script aside without any takers, and over the next ten years successfully completed three other films, including the crime drama film Silenced (2011) and the historical drama film The Fortress (2017).[32]\\n\\nIn the 2010s, Netflix had seen a large growth in viewership outside of North America, and started investing in productions in other regions, including Korea.[35] Ted Sarandos, co-CEO of Netflix, stated in 2018 that they were looking for more successes from overseas productions: \"The exciting thing for me would be if the next Stranger Things came from outside America. Right now, historically, nothing of that scale has ever come from anywhere but Hollywood.\"[36] Netflix had opened up a division in Asia in 2018, and while they were still operating out of temporary leased office space in Seoul, Hwang brought his script to their attention. Kim Minyoung, one of Netflix\\'s content officers for the Asian regions, recognized Hwang\\'s talent from The Fortress and his other films, and upon seeing his script for Squid Game, knew they needed it for the service. Kim said \"[W]e were looking for shows that were different from what\\'s traditionally \\'made it,\\' and Squid Game was exactly it\".[37] Netflix formally announced in September 2019 they would produce Hwang\\'s work as an original series.[34][38] Netflix\\'s Bela Bajaria, head of global television operations, said that of their interest in Hwang\\'s work, \"we knew it was going to be big in Korea because it had a well-regarded director with a bold vision\", and that \"K-Dramas also travel well across Asia\".[35] Regarding his return to the project, Hwang commented, \"It\\'s a sad story. But the reason why I returned to the project is because the world 10 years from then has transformed to a place where these unbelievable survival stories are so fitting, and I found that this is the time when people will call these stories intriguing and realistic.\"[29] Hwang further believed that the COVID-19 pandemic in 2020 and 2021 impacted the economic disparity between classes in South Korea, and said that \"All of these points made the story very realistic for people compared to a decade ago\".[34]\\n\\nWith the Netflix order, the film concept was expanded out to a nine-episode series. Kim stated that there was \"so much more than what was written in the 120-minute format. So we worked together to turn it into a series.\"[37] Hwang said he was able to expand the script so that it \"could focus on the relationships between people [and] the stories that each of the people had\".[39] Initially, Netflix had named the series Round Six, rather than Squid Game as Hwang had suggested; according to Netflix\\'s vice president for content in Asia Kim Minyoung, while they knew that the name \"squid game\" would be familiar to Korean viewers from the children\\'s game, it \"wouldn\\'t resonate because not many people would get it\", and opted to use Round Six as it self-described the nature of the competition. As production continued, Hwang pushed on the service to use Squid Game instead, which Kim said its cryptic name and the unique visuals helped to draw in curious viewers.[38][40] At the time that Hwang wrote the series, his goal was for having the series reach the most-watched show in Netflix in the United States for at least one day.[26]\\n\\nWriting\\n\\nHwang described the work as \"a story about losers\".[41] The names of the characters - Seong Gi-hun, Cho Sang-woo, and Il-nam - were all based on Hwang\\'s childhood friends, as well as the character name Hwang Jun-ho, who was also a childhood friend in real life with an older brother named Hwang In-ho.[32] The two main characters Gi-hun and Sang-Woo were based on Hwang\\'s own personal experiences and represented \"two sides\" of himself; Gi-hun shared the same aspects of being raised by an economically disadvantaged single mother in the Ssangmun district of Seoul, while Sang-Woo reflected on Hwang having attended Seoul National University with high expectations from his family and neighborhood.[32][41] Further, Gi-hun\\'s background was inspired by the organizers of the SsangYong Motor labor strike of 2009 [ko] against mass layoffs.[42]\\n\\ndalgona, a Korean sugar candy treat, based on the shapes used in the second game of the show. Within the show, players had to extract the inner shapes intact. Shapes punched into, a Korean sugar candy treat, based on the shapes used in the second game of the show. Within the show, players had to extract the inner shapes intact.\\n\\nHwang based the narrative on Korean games of his childhood to show the irony of a childhood game where competition was not important becoming an extreme competition with people\\'s lives at stake.[30] Additionally, as his initial script was intended for film, he opted to use children\\'s games with simple rules that were easy to explain in contrast to other survival-type films using games with complex rules.[39] The central game he selected, the squid game, was a popular Korean children\\'s game from the 1970s and 1980s.[38][43] Hwang recalled the squid game as \"the most physically aggressive childhood game I played in neighborhood alleys as a kid, which is why I also loved it the most\", and because of this \"it\\'s the most symbolic game that reflects today\\'s competitive society, so I picked it out as the show\\'s title\".[44] The \"Red light, Green light\" game was selected because of its potential to make a lot of losers in one go. Regarding the selection, Hwang said, \"The game was selected because the scene filled with so many people randomly moving and stopping could be viewed as a ridiculous but a sad group dance.\"[30] Hwang joked that the dalgona candy game they chose may influence sales of dalgona, similar to how sales of Korean gats (traditional hats) bloomed after broadcast of Netflix\\'s series Kingdom.[45] Licking the candy to free the shape was something that Hwang said that he had done as a child and brought it into the script.[44] Hwang had considered other Korean children\\'s games such as Gonggi, Dong, Dong, Dongdaemun, and Why did you come to my house? (우리 집에 왜 왔니?, a Korean variant of the Hana Ichi Monme).[30]\\n\\nHwang wrote all of the series himself, taking nearly six months to write the first two episodes alone, after which he turned to friends to get input on moving forward.[33] Hwang also addressed the challenges of preparing for the show which was physically and mentally exhausting, saying six of his teeth fell out while making Season 1.[29] As such, Hwang was initially unsure about a sequel after completing these episodes,[33] though wrote the ending to keep a potential hook for a sequel in mind.[26] Hwang had considered an alternate ending where Gi-hun would have boarded the plane after concluding his call with the game organizers to see his daughter, but Hwang said of that ending, \"Is that the right way for us to really propose the question or the message that we wanted to convey through the series?\"[46]\\n\\nCasting\\n\\nSquid Game. Director Hwang requested that actors Gong Yoo (left) and Lee Byung Hun , whom he had worked with previously, appear as the recruiter and the Front Man, respectively, in\\n\\nHwang said he chose to cast Lee Jung-jae as Gi-hun as to \"destroy his charismatic image portrayed in his previous roles\".[47] Jung Ho-yeon was requested by her new management company to send a video to audition for the series while she was finishing a shoot in Mexico and preparing for New York Fashion Week. Although this was her first audition as an actor and her expectations were low, Hwang said, \"The moment I saw her audition tape from New York, I immediately thought to myself, \\'this is the girl we want.\\' My first impression of her was that she is wild and free like an untamed horse\".[48][49][50] On casting Ali Abdul, Hwang said, “It was hard to find good foreign actors in Korea.” He chose Anupam Tripathi because of his emotional acting capabilities and fluency in Korean.[51] Both Gong Yoo and Lee Byung Hun had worked with Hwang during his previous films, Silenced and The Fortress respectively, and Hwang had asked both to appear in small roles within Squid Game.[48] The VIPs were selected from non-Korean actors living in Asia; in the case of Geoffrey Giuliano, who played the VIP that interacted with Jun-ho, his prior role from Train to Busan Presents: Peninsula led to his casting for Squid Game.[21]\\n\\nCasting for the series was confirmed on June 17, 2020.[52]\\n\\nCostume, set design, and filming\\n\\nProduction and filming of the series ran from June to October 2020, including a mandatory month break due to the ongoing COVID-19 pandemic.[53] City scenes were filmed in Daejeon,[54] while the island setpieces were filmed on Seongapdo located in Ongjin.[55]\\n\\nOjingo ( The shapes of Squid ) played heavily in the graphic design of the show.\\n\\nAs Netflix was targeting the work for a global audience, the visuals were emphasized and some of the rules of the children\\'s games were simplified to avoid potential issues with the language barrier.[34] The colorful sets and costumes were designed to look like a fantasy world. The players and soldiers each wear a distinctive color, to reduce the sense of individuality and emphasize the difference between the two groups.[30] The green tracksuits worn by the players were inspired by 1970s athletic wear, known as trainingbok (Korean: 트레이닝복).[56] The maze-like corridors and stairs drew inspiration from the 4-dimensional stair drawings of M. C. Escher including Relativity. Production designer Chae Kyoung-sun said these seemingly infinite stairways represented \"a form of bondage for the contestants\".[57] The complex network of tunnels between the arena, the dorm, and the administrative office was inspired by ant colonies.[30]\\n\\nChae was also inspired by the Saemaul Undong political initiative of the 1970s aimed to modernize rural Korean villages.[58] The mint green and pink color theme throughout the show were a common theme from Korean schools in the 1970s and 1980s, and further reflected themes throughout the show, with the green-suited players to come in fear and consider around the color pink when they are exposed to this through the guards and the stairway room.[59][57]\\n\\nThe players\\' dormitory was envisioned with the concept of \"people who are abandoned on the road\" according to Chae; this was also used in the tug-of-war game.[59] The room was designed using white tiles and the curved opening like a vehicular tunnel. The bed and stairs initially were laid out to look like warehouse shelves, but as the episodes progressed and these furnishing used as makeshift defenses, they took the appearance of broken ladders and stairs, implying the way these players were trapped with no way out, according to Chae.[59] The dinner scene that took place in the eighth episode was inspired by the art installation The Dinner Party by Judy Chicago.[57] Walls of many of the areas where the games took place were painted in skies inspired by The Empire of Light series by René Magritte.[57]\\n\\nThe crew spent the most time crafting the set for the Marbles game, creating a mix of realism and fakeness as to mirror the life and death nature of the games themselves.[60] Chae stated that this set was designed as a combination of small theatrical stages, each stage representing parts of Player 001\\'s memories.[59] The VIP room was one of the last pieces to be designed, and Chae said that they decided on an animal-based theme for both the costumes and room for this; \"The VIPs are the kind of people who take other people\\'s lives for entertainment and treat them like game pieces on a chessboard, so I wanted to create a powerful and instinctive look for the room.\"[59]\\n\\nMost sets were a combination of practical sets and chroma key backgrounds. For example, in the Glass Stepping Stones scenes, the set, designed as if in a circus tent for the players performing for the VIPs, was only 1.5 metres (4.9 ft) off the ground, using chroma key screens to simulate the height in post-production. In filming, this was far enough from the ground to make the actors nervous, which contributed to the scene.[60][59] The tug-of-war set was actually set more than 10 metres (33 ft) off the ground, which further created anxiety for some of the actors with fears of heights.[59]\\n\\nThe robot doll in the first episode, \"Red Light, Green Light\", was inspired by Younghee, a character who appeared on the covers of Korean textbooks Chul-soo and Young-hee in the 1970s and 1980s,[57] and her hairstyle was inspired by Hwang\\'s daughter\\'s.[56][59] The doll singsongs, in Korean, \"Mugunghwa Flower has Blossomed\", referring to the hibiscus syriacus, the national flower of South Korea.[44] The use of this familiar character was meant to juxtapose memories of childhood and unsettling fear in the players, according to Chae.[59] Similarly, the set for the dalgona game, using giant pieces of playground equipment, were to evoke players\\' memories of their childhood, and was a common place where Korean children would have played dalgona with friends.[59] The dalgona used in \"The Man with the Umbrella\" were made by a street vendor from Daehangno.[61]\\n\\nThe English language logo also incorporated the circle, triangle, and square shapes.\\n\\nThroughout the series, the trio of circle, triangle, and square shapes appear frequently on the cards given to recruit players, on the guards\\' masks, and inside the show\\'s title. These are shapes associated with the playing field for the children\\'s game of Squid (Ojing-eo). They are also used to represent the hierarchy of the guards within the complex. Following from the comparison with an ant colony, the guards with circles are considered the workers, triangles as the soldiers, and squares as the managers (see also: Korean honorifics). Further, in the Korean alphabet, Hangul, the circle represents the romanized letter \"O\", the triangle represents part of the letter \"J\", and the square represents the letter \"M\"; together, \"OJM\" are the romanized initials of Ojing-eo Geim, the Korean translation of Squid Game.[62]\\n\\nMusic\\n\\nJung Jae-il, who had previously composed the soundtrack for Parasite, directed and composed Squid Game\\'s score.[63] To prevent the score from becoming boring, Jung asked the help of two other composers: Park Min-ju and Kim Sung-soo, a music director for musicals who uses the stage name “23” when working as a composer.[64]\\n\\nTwo classical music pieces are also used throughout the show as part of the routine for the players: the third movement of Joseph Haydn\\'s \"Trumpet Concerto\" is used to wake the players, while Johann Strauss II\\'s \"The Blue Danube\" is used to indicate the start of a new game.[63] Ludwig van Beethoven\\'s \"Fifth Symphony\" is also used for background music in the VIP lounge.[63] A cover of \"Fly Me to the Moon\", arranged by Jung and sung by Korean artist Joo Won Shin, was used over the \"Red Light, Green Light\" game of the first episode; according to Joo, Hwang wanted a contrast between the brutal killing of the players in the game and the \"romantic and beautiful lyrics and melody\" of the song, such that the scene \"embodies the increasingly polarized capitalist society that we live in today in a very compressed and cynical way\".[65]\\n\\nFor the song \"Way Back Then\" that accompanies children playing Squid Game, Jung wanted to use instruments that he practiced in elementary school, such as recorders and castanets.[64] The rhythm of the song is based on a 3-3-7 clapping rhythm that is commonly used in South Korea to cheer someone on.[64] The recorder, played by Jung himself, had a slight “beep”, which was unintentional.[66] The song \"Round VI\" was played by the Budapest Scoring Orchestra.[67]\\n\\nThe soundtrack was released on September 17, 2021.[68]\\n\\nSquid Game track listing No. Title Music Artist Length 1. \"Way Back Then\" Jung Jae-il Jung Jae-il 2:31 2. \"Round I\" Jung Jae-il Jung Jae-il 1:19 3. \"The Rope Is Tied\" Jung Jae-il Jung Jae-il 3:18 4. \"Pink Soldiers\" 23 23 0:38 5. \"Hostage Crisis\" 23 23 2:22 6. \"I Remember My Name\" Jung Jae-il 3:13 7. \"Unfolded...\" Jung Jae-il 2:38 8. \"Needles and Dalgona\" Park Min-ju 3:44 9. \"The Fat and the Rats\" Park Min-ju 1:52 10. \"It Hurts So Bad\" Jung Jae-il 1:13 11. \"Delivery\" 23 4:55 12. \"Dead End\" 23 5:25 13. \"Round VI\" Jung Jae-il 5:54 14. \"Wife, Husband and 4.56 Billion\" Jung Jae-il 4:26 15. \"Murder Without Violence\" Park Min-ju 1:53 16. \"Slaughterhouse III\" Jung Jae-il 8:16 17. \"Owe\" Jung Jae-il 2:26 18. \"Uh...\" Jung Jae-il 3:38 19. \"Dawn\" Jung Jae-il 6:41 20. \"Let\\'s Go Out Tonight\" Jung Jae-il 3:27 Total length: 69:49\\n\\nMarketing\\n\\nIn the Philippines, a replica of the doll used in the episode one of the series was exhibited on Ortigas Avenue in Quezon City in September 2021.[69]\\n\\nA squid game doll was installed in Olympic Park, Seoul on October 25, 2021.[70] Replica of Squid Game\\'s set was exhibited at the Itaewon station in Seoul since September 5, 2021.[71][72] However, the exhibit was prematurely closed due to COVID-19 quarantine regulation concerns.[73]\\n\\nA Squid Game pop-up store opened in Paris on October 2 and 3, and a person could win a free one-month Netflix subscription if they managed to get the right shape from the dalgona in one minute and 30 seconds.[74][75]\\n\\nIn the Netherlands, Netflix hosted its own Squid Game where people were able to play the game Red Light, Green Light in both Maastricht and Rotterdam. A replica of the doll was exhibited and staff were dressed as guards. Winners were awarded with Squid Game memorabilia. The event attracted hundreds of people.[76][77][78]\\n\\nIn October 2021, the Hollywood Reporter interviewed Netflix Asia\\'s executive Kim Minyoung, who said that the company was looking into a possible video game adaptation of the series.[40]\\n\\nNetflix has licensed Squid Game for merchandising. Funko plans to release a set of Squid Game themed Funko Pops figurines in May 2022.[79]\\n\\nReception\\n\\nCritical reception\\n\\nThe show received critical acclaim.[80] On the review aggregator Rotten Tomatoes, the series has an approval rating of 94% based on 63 reviews, with an average rating of 8.20/10. The website\\'s critics consensus reads: \"Squid Game\\'s unflinching brutality is not for the faint of heart, but sharp social commentary and a surprisingly tender core will keep viewers glued to the screen – even if it\\'s while watching between their fingers.\"[81] On Metacritic, the series has a weighted average score of 69 out of 100 based on 13 critics, indicating \"generally favorable reviews\".[82]\\n\\nJoel Keller of Decider opined that the concept of the show was creative. When writing about the narrative, he described it as \"a tight narrative and a story that has the potential to be tense and exciting.\" Keller concluded, \"STREAM IT. Squid Game takes a fresh idea and spins it into a thrilling drama; we hope it continues to build the tension we saw in the last 20 minutes throughout the season.\"[83] Pierce Conran of the South China Morning Post rated the series with 4.5 out of 5 stars and wrote, \"Overall, this is still a savagely entertaining slam dunk from Netflix Korea, which is likely to be embraced around the world as its predecessors were.\"[84] Hidzir Junaini of NME rated the series with 4 out of 5 stars and opined, \"Thematic intelligence aside, Squid Game is also a white-knuckle watch, thanks to its visceral competition element.\"[85] John Doyle of The Globe and Mail described the series as \"a brave, dark, ambitious tale, at times moving and at times terrifying\" and added, \"Its power is in its understanding that money is survival. This is not some dystopian fantasy like Hunger Games. This is present-day life in all its complex awfulness.\"[86]\\n\\nKarl Quinn of The Age described the series as \"enormously derivative\", but wrote: \"there are two tensions that elevate Squid Game. One is within the narrative, where the primacy of the individual is in direct combat with the notion of community, and where the illusion of \"choice\" justifies all manner of exploitation.\"[87] S. Poorvaja of The Hindu wrote that \"the nine episodes manage to leave its viewers horrified, yet invested in the show, thanks to the razor-sharp writing and compelling performances by its ensemble cast.\"[88] Abha Shah of the Evening Standard wrote that the series was \"tightly written, each episode packed with enough pace to make it truly binge worthy\", and praised its themes as being \"universally engaging\".[89]\\n\\nWriting for The New York Times, TV critic Mike Hale found Squid Game to be an \"utterly traditional, and thoroughly predictable ... melodrama\" with \"eye-catching\" but \"not especially interesting ... production design and costuming\". He also thought the series\\' \"pretense of contemporary social relevance\" failed to justify its \"more than mildly sickening\" violence, and thought its characters were \"shallow assemblages of family and battlefield clichés\".[90] Daniel D\\'Addario of Variety wrote: \"Like Joker, there\\'s a having-it-both-ways insistence that a culture that could create violence is inherently sick and deranged, while playing out a wildly overstated version of sick derangement in a manner designed to be maximally tense and amusing.\"[91]\\n\\nViewership\\n\\nThe series became the first Korean drama to top Netflix\\'s top ten weekly most-watched TV show charts globally. It reached number one in 94 countries, including the United States and the United Kingdom.[92] Netflix estimated that Squid Game had drawn over 111 million member households worldwide after 17 days of availability,[93][e] and over 142 million member households after 28 days,[94] surpassing the 82 million that Bridgerton had received in its first 28 days in December 2020, and becoming the service\\'s most-watched series at its launch.[95] After Netflix revamped its published metrics of viewership in November 2021 based on total hours watched of the series, Squid Game remained the most-watched show on the service, with over 1.65 billion hours within its first 28 days compared to Bridgerton\\'s 625 million hours.[96] Although Netflix is not available in mainland China, pirated versions of Squid Game have been widely circulated on the Chinese Internet and the show has become a popular topic on Chinese social networking sites.[97]\\n\\nOutside of Asian regions, its popularity was driven primarily through word of mouth and viral spread on social media. Vulture also claimed that the show\\'s widespread localization, with subtitles in 37 languages and dubbed versions in 34 languages, helped to capture an international audience.[36] Hwang believed that the popularity was due \"by the irony that hopeless grownups risk their lives to win a kids\\' game\", as well as the familiarity and simplicity of the games that allowed the show to focus on characterization.[98] The diversity of the characters that play the Squid Game, drawing from different walks of lower- and middle-class life, also helps draw audiences to watch as many could find sympathy in one or more of the characters.[98]\\n\\nSquid Game had not broken into the Nielsen ratings for streaming media on its first week of availability, but for the week of September 20 through 26, 2021, it was the most-viewed show on streaming services in the United States, with over 1.9 billion minutes watched.[99] It remained the top-viewed program on streaming media from September 27 to October 3, 2021, reaching over 3.26 billion minutes watched in the U.S. These ratings made it the most-viewed streaming program to date in 2021, and the sixth such program to reach over 3 billion minutes watched in a single week since the introduction of Nielsen\\'s streaming media ratings.[100][f] This is the only record achieved in a single season without COVID-19 lockdowns.[101] Squid Game remained the most-watched show according to Nielsen for the weeks starting October 4 and 11, 2021,[102][103] but was ousted by You in the following week.[104] For four consecutive weeks, Squid Game remained as the most watched series on TV tracking service TV Time, where it also became the most followed Korean series to date.[105] On YouTube, Squid Game related content generated 17 billion views within eight weeks, the highest for a television show, surpassing the viewership generated by Game of Thrones related content in ten years.[106]\\n\\nAccording to Bloomberg News, by October 2021, Netflix estimated that Squid Game had generated nearly US$900 million in value based on extended viewer data;[107] it cost $21.4 million to produce.[108] Due to Squid Game\\'s surprising success for Netflix, operators of other streaming services with original content, such as Disney+, Paramount+ and Apple TV+, have begun looking to follow Netflix\\'s model of discovering regional content beyond Hollywood and finding similarly successful works for their platforms, with one executive calling this an area of \"unlimited potential\".[109] Besides bringing new ideas and veering from common themes of typical Hollywood productions, such foreign productions are typically less expensive to make, with tax breaks or incentives by the host country for filming and production.[110] Several producers of non-US TV series, who had little luck in pitching their shows to US-based streaming services in the past, were hopeful that these services would now seriously consider their works as a result of Squid Game\\'s success.[109]\\n\\nAccolades\\n\\nThemes and analysis\\n\\nCapitalism and economic disparity\\n\\nHwang wrote Squid Game based on his own personal experiences and observations of capitalism and economic class struggles within South Korea.[33] Hwang also considered that his script was targeted towards global issues regarding capitalism, stating, \"I wanted to create something that would resonate not just for Korean people but globally. This was my dream.\" and \"I do believe that the overall global economic order is unequal and that around 90% of the people believe that it\\'s unfair. During the pandemic, poorer countries can\\'t get their people vaccinated. They\\'re contracting viruses on the streets and even dying. So I did try to convey a message about modern capitalism. As I said, it\\'s not profound.\"[26]\\n\\nCommentators agreed that these themes applied to capitalism across the globe today.[86][115][116][117][118] The Guardian\\'s Nemo Kim and Justin McCurry describe that the situation that many of the players in Squid Game leading to their debt reflects the reality of the South Korean personal debt crisis, which had exceeded 100% of the country\\'s gross domestic product at the time the show first broadcast. Rising debt had led to the government placing restrictions on borrowing practices to try to prevent people from falling further in debt, but this itself had the impact of making other borrowers finding themselves unable to pay back loans without taking out higher-interest loans, creating a rapid cascading effect.[119] Many Koreans in these situations, often named as the \"dirt spoon\" class, turn to risky propositions, such as high-risk investments, cryptocurrency, or gambling, anticipating a big payoff but end up further in debt and exacerbating the problem, according to The Associated Press\\'s Kim Tong-Hyung.[120][121] The use of trainingbok outfits for the players was said to allude to their connotation with baeksu, roughly translated as \"white hands\", people that have not been able to gain financial independence and discriminated by society as they often spend their days idle and doing no work, according to Indiana University professor Jooyoung Shin.[58]\\n\\nBrian Lowry of CNN wrote that the series \"presents a visually arresting variation on themes seen plenty of times before, which include tapping into the class divide – and the rich essentially preying on the poor and destitute – at a moment when the audience might be more receptive to that message.\"[122] Henry Wong of The Guardian compared the show favorably to the 2019 South Korean film Parasite, and said that the show used the \"present-day, very real wealth inequality\" in South Korea as a backdrop to keep the viewer interested in its characters.[123] Caitlyn Clark of American socialist magazine Jacobin also compared the series favorably to Parasite and said that it \"shreds the capitalist myth that hard work guarantees prosperity\".[124] Melanie McFarland of the American liberal website Salon.com described the series as \"an excellent distillation of how predatory capitalism works.\"[125] E. Tammy Kim of American progressive magazine The Nation wrote: \"Squid Game is not a subtle show, either in its politics or plot. Capitalism is bloody and mean and relentless; it yells.\"[115] Morgan Ome of The Atlantic wrote that the series \"fits into a category of South Korean works that grapple with economic anxieties and class struggles, which are rooted in the country\\'s concerns but resonate globally\", adding that it \"indicts the rich for propagating a false sense of upward mobility and the poor for buying into it.\"[126]\\n\\nAs the series was introduced ahead of the 2022 South Korean presidential election, several of the candidates began using some of the Squid Game imagery in their political ads and challenging opponents to similar games,[34] as well as using the themes of the series related to economic disparity as part of their political platform.[127] The Korean Confederation of Trade Unions used outfits and imagery based on Squid Game as part of its messaging and demonstrations against the current economic disparity in South Korea.[128] A North Korean state-run website, \\'Arirang Meari\\', used Squid Game to critically mock the economic situation in South Korea, saying that it exposes the \"beastly\" nature of the \"South Korean capitalist society where mankind is annihilated by extreme competition,\" and describes South Korea as a country where \"corruption and immoral scoundrels are commonplace\".[129][130] A diplomatic cable of the United States Department of State said, \"At the heart of the show\\'s dark story is the frustration felt by the average Korean, and particularly Korean youth, who struggle to find employment, marriage, or upward mobility—proving that grim economic prospects are indeed at the center of Korean society\\'s woes.\"[131]\\n\\nSeveral journalists observed that Squid Game effectively used foreshadowing in alluding to the deaths of the major characters and other elements of the series.[132] For example, Ali (Player 199) is shown in the second episode to be tricked by his employer out of his wages, while his death comes after he is tricked into giving Sang-woo his marbles in the sixth episode. Similarly, the gangster Deok-su (Player 101) evades a set-up by his underlings in the second episode by diving off a bridge, while his death in game comes from the seventh episode Stepping Stones game when pulled to his death from the glass bridge by Mi-nyeo.[133] Sae-byeok has a scar on her neck and holds a knife to the neck of the man who swindled her out of her money; later her throat is slit by Sang-woo.[134] Several additional scenes in early episodes also were said to have hinted towards Il-nam (Player 001) being special and not just a normal player of the game, including being the only old person among the players, having the \"001\" player identification, and keen awareness of all the games since they were of his design.[135]\\n\\nThe series drew some criticism for its similarity to the 2014 Japanese film As the Gods Will. Like the manga upon which the film was based, Squid Game features dangerous versions of children\\'s games such as Daruma-san ga koronda, the Japanese version of Red Light, Green Light. Responding to allegations of plagiarism, director Hwang Dong-hyuk stated that he had been working on the script since at least 2008 and that similarities between the two films, of which he had been made aware during the process of filming, were coincidental.[136][137] He acknowledged that he had been inspired by Japanese comics and animation, including Battle Royale and Liar Game.[33]\\n\\nSome bilingual viewers have debated the quality of Netflix\\'s translations, observing that the English closed captioning, which was based on the English dub, changed the meaning of some dialogue when compared to the original Korean. Bilingual performers for the English dub acknowledged that there were some translation issues, and noted that this type of work is challenging due to limitations on how captioning can be presented to viewers.[138] Jinhyun Cho, a senior lecturer in translation at Macquarie University, stated that particularly in the Korean language, there are words that are \"untranslatable\" such as aegyo, as well as honorifics used in Korean culture. Because on-screen translations are limited to a small space, there is no room for translators to provide the necessary context for these words, and thus they are often left out or overly simplified, frequently so in the case of Squid Game. Cho gave the example of Sang-woo asking Ali to call him hyung, a Korean honorific term used to refer to one as an older brother or an older trusted friend, rather than the more formal sajang-nim (company president) that Ali had been using since they first met. However, due to the complexities of the meaning of hyung, the English translation simplified \"Call me hyung\" to just \"call me Sang-woo\", losing the implication of this request.[139] The quality of the subtitles of Squid Game opened debate about Netflix, and other services looking to expand their libraries with international works, to give more effort to the subtitles and closed captioning quality in order to better capture meaning of the original language.[140]\\n\\nThe show received some criticism for its portrayal of women.[141][142] Haeil, a feminist organisation in Korea, said that the show was \"neither a representation nor a criticism of the reality of anti-feminism in Korea\" and that it demonstrated an \"exclusively male gaze.\"[143] The show was also found to highlight how migrant workers from other Asian countries (in the case of Ali\\'s character being from Pakistan) are treated and at times exploited as second-class citizens within South Korea, though some found Ali\\'s character to be too naïve to the realities of the situation and a caricature of such migrant workers within the country.[144][145]\\n\\nAmerican conservative political commentator Ben Shapiro called \"the politics\" of Squid Game \"very communistic in nature\" and \"extraordinarily far to the left\".[146] Citizen journalist and political commentator Tim Pool also likened the politics of Squid Game to communism, saying \"It\\'s surprising that people who think a show about people being forced into equality, stand in food lines where they are underfed, and used as fodder for the elites does not represent communism in anyway\" and that \"If Squid Game was about capitalism then rich people would start off advantaged and not equal to the other players.\"[146] Both commentators were criticized for their interpretations of Squid Game.[146]\\n\\nPublic response\\n\\nSquid Game A fan cosplaying as one of the guards from\\n\\nSquid Game was considered one of the latest examples of the growing trend of popular South Korean media to gain international attention since the late 2010s, similar to popular K-pop bands like BTS and K-dramas and films like Parasite. Such works had drawn more attention due to streaming services like Netflix and YouTube to make South Korean content, traditionally controlled by the country\\'s national broadcasters, available across the globe. Further, according to Choe Sang-Hun of The New York Times, South Korean creators have a way of taking ideas from foreign works and applying their own cultural spin on it that draws in more audiences.[147]\\n\\nWhile all of the actors saw increases in followers on their social media accounts in the weeks after Squid Game premiered, Jung Ho-yeon saw one of the largest increases, going from about 400,000 to over 13 million followers in three weeks after Squid Game premiered,[148] and reaching over 23.5 million by November 2021.[149] In October 2021, the fashion brand Louis Vuitton announced Jung Ho-Yeon as their new global ambassador for fashion, watches, and jewelry; creative director Nicolas Ghesquière said he \"immediately fell in love with Ho-Yeon\\'s great talent and fantastic personality\" from her performance on Squid Game.[150] O Yeong-su, who had a modest career in Korean theater and film prior to Squid Game, was surprised by his newfound fame following the show, making him feel like his was \"floating on air\". Lacking a casting agent, he had to turn to help from his daughter to handle the volume of calls asking him to appear in various roles.[151] Several major talent agencies sought to sign Hwang and the lead actors of Squid Game in the months after its debut, with Jung being the first to sign on with Creative Artists Agency by mid-November 2021.[149]\\n\\nIn South Korea, the popularity of Squid Game led to a surge of network traffic which caused SK Broadband to file a lawsuit against Netflix, seeking monetary damages to pay for increased broadband usage and maintenance costs associated with the program.[152] One of the phone numbers used in the show belonged to a private resident who reported receiving up to 4,000 calls each day from people, several of whom desired to play a real-life version of the game;[153] Netflix stated they would edit the show to remove the number.[154]\\n\\nVendors of dalgona, the honeycomb candy featured in the second game, both within Korea and internationally found a significant increase in sales after the show\\'s release.[155][156] Everyday clothing items matching those worn in the show saw large growths in sales in the weeks after the show\\'s initial broadcast, such as Vans slip-on shoes which spiked by 7,800%. Variety attributed this sales increase in part to preparation for Halloween costumes inspired by the show.[157][158][159] Vendors of other costume props that mirrored those in the show, such as the guards\\' masks, also saw sales spikes in advance of Halloween following the show\\'s premiere.[160] The garment industry in South Korea saw a brief resurgence as demand for green tracksuits based on the show grew.[161]\\n\\nNetflix claimed that Squid Game had \"pierced the cultural zeitgeist\" and became a popular Internet meme, with over 42 billion views of videos related to Squid Game in the first month after broadcast.[94] Analytics firm Vobile stated that by November 2021, views of Squid Game-related videos on YouTube had surpassed 17 billion views, surpassing that for Game of Thrones.[162] On October 16, 2021, an episode of the American late-night live television sketch comedy and variety show Saturday Night Live, featuring guest host Rami Malek and cast member Pete Davidson, parodied Squid Game by singing a country song about the series. As of November 5, 2021, the song has over 9.6 million views on Saturday Night Live\\'s YouTube channel.[163][164] In November 2021, American YouTuber MrBeast uploaded a recreation of Squid Game in real life, in which 456 people competed for a $456,000 cash prize without actually shooting anyone.[165] However, the video was criticised for missing the message of the original series, with Gita Jackson of Vice stating that it \"doesn’t just badly misunderstand the anti-capitalist message of Squid Game, it’s a literal recreation of the villain\\'s ultimate desire to watch desperate people compete for money purely for his amusement\"[166]\\n\\nShortly after the show\\'s release, users of social media adapted some of the games featured in Squid Game as Internet challenges, including the first \"Red Light, Green Light\" game and the second honeycomb cookie game.[167] Users of video games supporting user-created content, such as Roblox, Fortnite Creative, and Grand Theft Auto Online, created numerous games within these systems that were based on one or more of the Squid Game challenges.[168][169][170] A video game named Crab Game was also created in response to Squid Game\\'s popularity.[171] Some groups also worked to organize safe, mock Squid Game events for fans of the show.[172][173] Concerns have been raised about children\\'s exposure to Squid Game from either watching it or through its viral popularity, as it is considered to have a high level of violence for that age group.[174] A number of schools around the United Kingdom observed that despite the show being aimed at mature audiences, young children were emulating some of the games from Squid Game during school recess, and warned parents about these activities.[175] Parents and school boards in Quebec, Canada and in the Fayetteville-Manlius Central School District of New York have also observed young children emulating games from Squid Game and taken steps such as warning parents and banning such activities from school grounds.[176][177]\\n\\nChinese online video platform Youku announced plans in October 2021 to launch the show Squid Victory (鱿鱼的胜利) in 2022. The upcoming show, initially named Victory of Squid, was heavily criticized by Chinese netizens after it was discovered that it had plagiarized the plot and themes of Squid Game. After facing criticism, the company apologized and stated that the show\\'s poster and the title were abandoned. Youku later shared a new poster and announced that the show\\'s name has been changed to Game\\'s Victory.[178][179][180]\\n\\nThe show was used as the basis for an unaffiliated short-lived cryptocurrency scam named SQUID which had started trading in late October 2021. The currency was poised to be used eventually to back a site for online games where player would buy tokens to play in games inspired by Squid Game, with those buying the currency helping to support the investment of the site, with the currency\\'s value to increase as more players used the site. The currency had drawn enough buyers to increase in value by over 2,300% within a day of trading, but news organizations like the BBC identified that the scheme appears to be a \"rug pull\" scam due to several red flags in the proposition.[181] By November 1, 2021, the backers of the currency completely pulled out, crashing the currency and effectively making off with $2.1 million.[182]\\n\\nYouTuber and member of the Yogscast collective of content creators Lydia Ellery, who had used the handles \"Squid Game\" and \"SquidGaming\" for 11 years, was refused work because of her handle\\'s perceived association with the show. She has also been subject to harassment by fans of Squid Game who \"thought [she] took the account from the show.\", with some fans attempting to hack into her accounts.[183]\\n\\nPotential sequel\\n\\nDue to the stress of writing and producing the first series of nine episodes himself, Hwang initially had no immediate plans to write a sequel to Squid Game. He did not have well-developed plans for a follow-up story and if he were to write one, he would likely have a staff of writers and directors to help him.[33] With the immense popularity of the show, Hwang later opined about the possibility of a second season, telling CNN \"There\\'s nothing confirmed at the moment, but so many people are enthusiastic that I\\'m really contemplating it.\"[41] Hwang said in an interview with The Times that a second season may focus more on the story of the Front Man as well as incorporating more about the police. Hwang said \"I think the issue with police officers is not just an issue in Korea. I see it on the global news that the police force can be very late in acting on things—there are more victims or a situation gets worse because of them not acting fast enough. This was an issue that I wanted to raise.\"[184] He added he also wanted to explore the relationship between the cryptic Front Man and his policeman brother Hwang Jun-ho, as well as the background of the salesman character (portrayed by Gong Yoo in cameo).[185]\\n\\nIn late October 2021, Hwang stated he was in discussions with Netflix regarding a sequel. He wanted to produce another film first as well as looking to secure a contract with Netflix to show additional films he may create alongside any further Squid Game seasons, as to avoid becoming known only for being the Squid Game creator.[26] Hwang confirmed that he had begun conceptualization work on a second season had started during a press event in November 2021, with plans to bring back Lee Jung-jae to reprise his role of Gi-hun.[186] Netflix stated in response to Hwang\\'s comments that they had not yet officially greenlit a second season, but are in discussions with Hwang towards one.[187]\\n\\nSee also\\n\\nNotes'"
            ]
          },
          "metadata": {},
          "execution_count": 15
        }
      ]
    },
    {
      "cell_type": "code",
      "metadata": {
        "id": "DB8kYvT5e9DK"
      },
      "source": [
        "sg = ag.replace(\"\\n\", \"\")"
      ],
      "execution_count": 18,
      "outputs": []
    },
    {
      "cell_type": "code",
      "metadata": {
        "id": "nvFe2T-5Rme_"
      },
      "source": [
        "#Parse the doc\n",
        "doc = nlp(sg)"
      ],
      "execution_count": 25,
      "outputs": []
    },
    {
      "cell_type": "code",
      "metadata": {
        "id": "OaCQTKnZRmh2"
      },
      "source": [
        "## extract the entities\n",
        "ents = [(ent.text, ent.start_char, ent.end_char, ent.label_) for ent in doc.ents]"
      ],
      "execution_count": 32,
      "outputs": []
    },
    {
      "cell_type": "code",
      "metadata": {
        "id": "kzii4omZfq0E",
        "outputId": "b59ec1b5-66a9-454d-dc84-b337d4887670",
        "colab": {
          "base_uri": "https://localhost:8080/"
        }
      },
      "source": [
        "len(ents)"
      ],
      "execution_count": 33,
      "outputs": [
        {
          "output_type": "execute_result",
          "data": {
            "text/plain": [
              "898"
            ]
          },
          "metadata": {},
          "execution_count": 33
        }
      ]
    },
    {
      "cell_type": "code",
      "metadata": {
        "id": "e9EaJ8VZftkB",
        "outputId": "7f51ce8f-9e38-472c-a2b1-eb3bd3358d8d",
        "colab": {
          "base_uri": "https://localhost:8080/",
          "height": 419
        }
      },
      "source": [
        "## put list in dataframe\n",
        "df = pd.DataFrame(ents, columns=['text', 'start', 'end', 'entity'])\n",
        "df"
      ],
      "execution_count": 38,
      "outputs": [
        {
          "output_type": "execute_result",
          "data": {
            "text/html": [
              "<div>\n",
              "<style scoped>\n",
              "    .dataframe tbody tr th:only-of-type {\n",
              "        vertical-align: middle;\n",
              "    }\n",
              "\n",
              "    .dataframe tbody tr th {\n",
              "        vertical-align: top;\n",
              "    }\n",
              "\n",
              "    .dataframe thead th {\n",
              "        text-align: right;\n",
              "    }\n",
              "</style>\n",
              "<table border=\"1\" class=\"dataframe\">\n",
              "  <thead>\n",
              "    <tr style=\"text-align: right;\">\n",
              "      <th></th>\n",
              "      <th>text</th>\n",
              "      <th>start</th>\n",
              "      <th>end</th>\n",
              "      <th>entity</th>\n",
              "    </tr>\n",
              "  </thead>\n",
              "  <tbody>\n",
              "    <tr>\n",
              "      <th>0</th>\n",
              "      <td>2021</td>\n",
              "      <td>0</td>\n",
              "      <td>4</td>\n",
              "      <td>CARDINAL</td>\n",
              "    </tr>\n",
              "    <tr>\n",
              "      <th>1</th>\n",
              "      <td>South Korean</td>\n",
              "      <td>5</td>\n",
              "      <td>17</td>\n",
              "      <td>NORP</td>\n",
              "    </tr>\n",
              "    <tr>\n",
              "      <th>2</th>\n",
              "      <td>Netflix</td>\n",
              "      <td>76</td>\n",
              "      <td>83</td>\n",
              "      <td>ORG</td>\n",
              "    </tr>\n",
              "    <tr>\n",
              "      <th>3</th>\n",
              "      <td>Korean</td>\n",
              "      <td>111</td>\n",
              "      <td>117</td>\n",
              "      <td>NORP</td>\n",
              "    </tr>\n",
              "    <tr>\n",
              "      <th>4</th>\n",
              "      <td>Squids</td>\n",
              "      <td>178</td>\n",
              "      <td>184</td>\n",
              "      <td>NORP</td>\n",
              "    </tr>\n",
              "    <tr>\n",
              "      <th>...</th>\n",
              "      <td>...</td>\n",
              "      <td>...</td>\n",
              "      <td>...</td>\n",
              "      <td>...</td>\n",
              "    </tr>\n",
              "    <tr>\n",
              "      <th>893</th>\n",
              "      <td>Lee Jung-jae</td>\n",
              "      <td>60903</td>\n",
              "      <td>60915</td>\n",
              "      <td>PERSON</td>\n",
              "    </tr>\n",
              "    <tr>\n",
              "      <th>894</th>\n",
              "      <td>Netflix</td>\n",
              "      <td>60952</td>\n",
              "      <td>60959</td>\n",
              "      <td>ORG</td>\n",
              "    </tr>\n",
              "    <tr>\n",
              "      <th>895</th>\n",
              "      <td>Hwang</td>\n",
              "      <td>60982</td>\n",
              "      <td>60987</td>\n",
              "      <td>PERSON</td>\n",
              "    </tr>\n",
              "    <tr>\n",
              "      <th>896</th>\n",
              "      <td>a second season</td>\n",
              "      <td>61041</td>\n",
              "      <td>61056</td>\n",
              "      <td>DATE</td>\n",
              "    </tr>\n",
              "    <tr>\n",
              "      <th>897</th>\n",
              "      <td>Hwang</td>\n",
              "      <td>61086</td>\n",
              "      <td>61091</td>\n",
              "      <td>PERSON</td>\n",
              "    </tr>\n",
              "  </tbody>\n",
              "</table>\n",
              "<p>898 rows × 4 columns</p>\n",
              "</div>"
            ],
            "text/plain": [
              "                text  start    end    entity\n",
              "0               2021      0      4  CARDINAL\n",
              "1       South Korean      5     17      NORP\n",
              "2            Netflix     76     83       ORG\n",
              "3             Korean    111    117      NORP\n",
              "4             Squids    178    184      NORP\n",
              "..               ...    ...    ...       ...\n",
              "893     Lee Jung-jae  60903  60915    PERSON\n",
              "894          Netflix  60952  60959       ORG\n",
              "895            Hwang  60982  60987    PERSON\n",
              "896  a second season  61041  61056      DATE\n",
              "897            Hwang  61086  61091    PERSON\n",
              "\n",
              "[898 rows x 4 columns]"
            ]
          },
          "metadata": {},
          "execution_count": 38
        }
      ]
    },
    {
      "cell_type": "code",
      "metadata": {
        "id": "NdxdVlG1f-Ny"
      },
      "source": [
        "counts = df.entity.value_counts()"
      ],
      "execution_count": 39,
      "outputs": []
    },
    {
      "cell_type": "code",
      "metadata": {
        "id": "7upFTTdYgQrh",
        "outputId": "1a8726fd-2e9c-4a44-f51c-3cca8162264a",
        "colab": {
          "base_uri": "https://localhost:8080/",
          "height": 282
        }
      },
      "source": [
        "counts.sort_values().plot(kind ='barh')"
      ],
      "execution_count": 41,
      "outputs": [
        {
          "output_type": "execute_result",
          "data": {
            "text/plain": [
              "<matplotlib.axes._subplots.AxesSubplot at 0x7f487a017cd0>"
            ]
          },
          "metadata": {},
          "execution_count": 41
        },
        {
          "output_type": "display_data",
          "data": {
            "image/png": "[encoded data removed]",
            "text/plain": [
              "<Figure size 432x288 with 1 Axes>"
            ]
          },
          "metadata": {
            "needs_background": "light"
          }
        }
      ]
    },
    {
      "cell_type": "markdown",
      "metadata": {
        "id": "dFtBUUmviA6d"
      },
      "source": [
        "#Word/Doc Vectors\n"
      ]
    },
    {
      "cell_type": "code",
      "metadata": {
        "id": "2SP4rmYARpvR"
      },
      "source": [
        "# lets review a simple document\n",
        "tweet = \"That movie from email@email.com was fire! We can review it at www.bu.edu.\""
      ],
      "execution_count": 42,
      "outputs": []
    },
    {
      "cell_type": "code",
      "metadata": {
        "id": "VadxUj8NSpv4",
        "outputId": "f52fa9fe-5ee6-45d7-8eeb-a1111718f982",
        "colab": {
          "base_uri": "https://localhost:8080/"
        }
      },
      "source": [
        "# spacy is a pipeline\n",
        "nlp.pipe_names"
      ],
      "execution_count": 44,
      "outputs": [
        {
          "output_type": "execute_result",
          "data": {
            "text/plain": [
              "['tok2vec', 'tagger', 'parser', 'attribute_ruler', 'lemmatizer', 'ner']"
            ]
          },
          "metadata": {},
          "execution_count": 44
        }
      ]
    },
    {
      "cell_type": "code",
      "metadata": {
        "id": "D1-xZunyirbh"
      },
      "source": [
        "doc = nlp(tweet)"
      ],
      "execution_count": 46,
      "outputs": []
    },
    {
      "cell_type": "code",
      "metadata": {
        "id": "gNG6EJaGR3Yk",
        "outputId": "1f3ab2f5-78d0-4029-fda1-3500321d34ac",
        "colab": {
          "base_uri": "https://localhost:8080/"
        }
      },
      "source": [
        "# remember, we can slice up docs into tokens/spans\n",
        "\n",
        "token = doc[3]\n",
        "token"
      ],
      "execution_count": 50,
      "outputs": [
        {
          "output_type": "execute_result",
          "data": {
            "text/plain": [
              "email@email.com"
            ]
          },
          "metadata": {},
          "execution_count": 50
        }
      ]
    },
    {
      "cell_type": "code",
      "metadata": {
        "id": "81eUpDHuiuzy",
        "outputId": "c7768547-43ad-41cf-f5a3-13ae1d3f09e9",
        "colab": {
          "base_uri": "https://localhost:8080/"
        }
      },
      "source": [
        "type(token)"
      ],
      "execution_count": 48,
      "outputs": [
        {
          "output_type": "execute_result",
          "data": {
            "text/plain": [
              "spacy.tokens.token.Token"
            ]
          },
          "metadata": {},
          "execution_count": 48
        }
      ]
    },
    {
      "cell_type": "code",
      "metadata": {
        "id": "ygD_K_vRSLYP",
        "outputId": "d9b425eb-dba8-4806-ea18-0bbdf1c6dd6b",
        "colab": {
          "base_uri": "https://localhost:8080/"
        }
      },
      "source": [
        "# tokens have all sorts of attributes that were learned\n",
        "token.like_email"
      ],
      "execution_count": 51,
      "outputs": [
        {
          "output_type": "execute_result",
          "data": {
            "text/plain": [
              "True"
            ]
          },
          "metadata": {},
          "execution_count": 51
        }
      ]
    },
    {
      "cell_type": "code",
      "metadata": {
        "id": "8ip4s9EOwVsR",
        "outputId": "57ea175d-eaf5-4b07-8a97-39d60265238f",
        "colab": {
          "base_uri": "https://localhost:8080/"
        }
      },
      "source": [
        "# worth noting, a document can be comprised of sentences\n",
        "# remember that we used to download punkt from nltk?\n",
        "# that was a sentence tokenizer (divide into sentences)\n",
        "# spacy has this built in\n",
        "\n",
        "[sent for sent in doc.sents]"
      ],
      "execution_count": 52,
      "outputs": [
        {
          "output_type": "execute_result",
          "data": {
            "text/plain": [
              "[That movie from email@email.com was fire!, We can review it at www.bu.edu.]"
            ]
          },
          "metadata": {},
          "execution_count": 52
        }
      ]
    },
    {
      "cell_type": "code",
      "metadata": {
        "id": "ah9YNbSbUfZ_"
      },
      "source": [
        ""
      ],
      "execution_count": null,
      "outputs": []
    },
    {
      "cell_type": "code",
      "metadata": {
        "id": "ORlTu0bUSlSt"
      },
      "source": [
        "####################################### quick departure\n",
        "# above we checked against spacy's learned vocabulary\n",
        "# this is a check to see if a token is out-of-vocabulary (OOV)\n",
        "\n",
        "# model reviews:\n",
        "# https://spacy.io/usage/models\n"
      ],
      "execution_count": null,
      "outputs": []
    },
    {
      "cell_type": "code",
      "metadata": {
        "id": "QTCeTza4UTHV",
        "outputId": "e2a3b83e-15af-41e4-c2cd-1e5451cf15e3",
        "colab": {
          "base_uri": "https://localhost:8080/"
        }
      },
      "source": [
        "# this is just for reference\n",
        "# \n",
        "\n",
        "v = nlp.vocab.vectors\n",
        "v.shape"
      ],
      "execution_count": 53,
      "outputs": [
        {
          "output_type": "execute_result",
          "data": {
            "text/plain": [
              "(20000, 300)"
            ]
          },
          "metadata": {},
          "execution_count": 53
        }
      ]
    },
    {
      "cell_type": "code",
      "metadata": {
        "id": "skGk_-OZV7tk",
        "outputId": "b7986be8-a508-4f84-c8d7-5f0332fab2a3",
        "colab": {
          "base_uri": "https://localhost:8080/",
          "height": 37
        }
      },
      "source": [
        "# spacy stores text and tokens effeciently \n",
        "# https://spacy.io/usage/spacy-101#vocab\n",
        "\n",
        "# spacy provides a way to lookup the vectors\n",
        "nlp.vocab.strings[\"golf\"]\n",
        "\n",
        "# and we can reverse\n",
        "nlp.vocab.strings[18149141486079540445]\n",
        "\n",
        "## spacy is very flexible, and while vectors can be added and edited, \n",
        "## we can just include our own, which we will do later"
      ],
      "execution_count": 54,
      "outputs": [
        {
          "output_type": "execute_result",
          "data": {
            "application/vnd.google.colaboratory.intrinsic+json": {
              "type": "string"
            },
            "text/plain": [
              "'golf'"
            ]
          },
          "metadata": {},
          "execution_count": 54
        }
      ]
    },
    {
      "cell_type": "code",
      "metadata": {
        "id": "BGO7Kbw0W3oT"
      },
      "source": [
        "#######################################  Vectors/Embeddings\n",
        "##\n",
        "## You have heard me use this term quite a bit\n",
        "## we have seen this via PCA ----> take a large feature space and re-represent this in a new space\n",
        "##     the goal was to encode information and reduce noise, right?\n",
        "##\n",
        "## we saw this in Tsne (2 embeddings) and UMAP (can be 2 or more depending on our needs)\n",
        "## \n",
        "## \n",
        "## Well in text, we have the same idea\n",
        "## we could always use the tools above, but there this is a \"hot\" field right now -> embeddings\n"
      ],
      "execution_count": null,
      "outputs": []
    },
    {
      "cell_type": "markdown",
      "metadata": {
        "id": "LVvzSQikp_3C"
      },
      "source": [
        "\n",
        "\n",
        "![](https://miro.medium.com/max/2224/0*K5a1Ws_nsbEjhbYk.png)\n",
        "\n",
        "> Above we can see words can be represented in these highly dimensional spaces.  The aim is to encapsulate context.  Remember bag-of-words removes sequence/order!\n",
        "\n",
        "\n",
        "![](https://jalammar.github.io/images/word2vec/king-analogy-viz.png)"
      ]
    },
    {
      "cell_type": "markdown",
      "metadata": {
        "id": "vR9YLRNw5xiu"
      },
      "source": [
        "![](https://miro.medium.com/max/1400/1*cuOmGT7NevP9oJFJfVpRKA.png)\n"
      ]
    },
    {
      "cell_type": "code",
      "metadata": {
        "id": "HieVHB46p_7E"
      },
      "source": [
        "# get some vectors\n",
        "\n",
        "king = nlp(\"king\").vector\n",
        "man = nlp(\"man\").vector\n",
        "woman = nlp(\"woman\").vector\n",
        "queen = nlp(\"queen\").vector\n",
        "jester = nlp(\"jester\").vector\n",
        "court = nlp(\"court\").vector\n",
        "golf = nlp(\"golf\").vector"
      ],
      "execution_count": 64,
      "outputs": []
    },
    {
      "cell_type": "code",
      "metadata": {
        "id": "K6Kk2FdBuz1D",
        "outputId": "20aef089-fb84-4dd4-cb7b-9094e3f52552",
        "colab": {
          "base_uri": "https://localhost:8080/"
        }
      },
      "source": [
        "# what do we have\n",
        "type(king)\n",
        "king.shape"
      ],
      "execution_count": 57,
      "outputs": [
        {
          "output_type": "execute_result",
          "data": {
            "text/plain": [
              "(300,)"
            ]
          },
          "metadata": {},
          "execution_count": 57
        }
      ]
    },
    {
      "cell_type": "code",
      "metadata": {
        "id": "mUiSy-5nu3VJ",
        "outputId": "a453753f-840b-447b-9dfe-bf2ddbebf165",
        "colab": {
          "base_uri": "https://localhost:8080/"
        }
      },
      "source": [
        "# a quick preview\n",
        "king[:5]"
      ],
      "execution_count": 58,
      "outputs": [
        {
          "output_type": "execute_result",
          "data": {
            "text/plain": [
              "array([ 0.31542, -0.35068,  0.42923, -0.53825, -0.1848 ], dtype=float32)"
            ]
          },
          "metadata": {},
          "execution_count": 58
        }
      ]
    },
    {
      "cell_type": "code",
      "metadata": {
        "id": "Re4xOhrnp_9-"
      },
      "source": [
        "# some math\n",
        "test = king - man + woman \n",
        "test"
      ],
      "execution_count": null,
      "outputs": []
    },
    {
      "cell_type": "code",
      "metadata": {
        "id": "bOUSqmHxqAAi",
        "outputId": "dc1a7082-c368-4e95-8cac-22e7e34ae236",
        "colab": {
          "base_uri": "https://localhost:8080/"
        }
      },
      "source": [
        "# the comparison set\n",
        "\n",
        "lookups = np.stack([queen, jester, court, golf])\n",
        "lookups.shape"
      ],
      "execution_count": 65,
      "outputs": [
        {
          "output_type": "execute_result",
          "data": {
            "text/plain": [
              "(4, 300)"
            ]
          },
          "metadata": {},
          "execution_count": 65
        }
      ]
    },
    {
      "cell_type": "code",
      "metadata": {
        "id": "-C1o3KZGqACp"
      },
      "source": [
        "# we can use cdist manually\n",
        "comp_list = ['queen', 'jester', 'court', 'golf']\n",
        "\n",
        "# the test calc needs to be 2-d\n",
        "test = np.expand_dims(test,0)\n"
      ],
      "execution_count": 68,
      "outputs": []
    },
    {
      "cell_type": "code",
      "metadata": {
        "id": "ah58mcXLnOXM",
        "outputId": "bf698158-8dc4-4e61-d94c-e7b927958bac",
        "colab": {
          "base_uri": "https://localhost:8080/"
        }
      },
      "source": [
        "test.shape"
      ],
      "execution_count": 69,
      "outputs": [
        {
          "output_type": "execute_result",
          "data": {
            "text/plain": [
              "(1, 300)"
            ]
          },
          "metadata": {},
          "execution_count": 69
        }
      ]
    },
    {
      "cell_type": "code",
      "metadata": {
        "id": "7xxGesdmqAFI",
        "outputId": "4641a462-dfa8-440d-c489-a5c557342a40",
        "colab": {
          "base_uri": "https://localhost:8080/"
        }
      },
      "source": [
        "\n",
        "# the comps -- cdist expected test to be 2d, so we used expand dims above\n",
        "comps = cdist(test, lookups, metric = 'cosine')\n",
        "comps"
      ],
      "execution_count": 72,
      "outputs": [
        {
          "output_type": "execute_result",
          "data": {
            "text/plain": [
              "array([[0.21191557, 0.75962686, 0.64762929, 0.84203839]])"
            ]
          },
          "metadata": {},
          "execution_count": 72
        }
      ]
    },
    {
      "cell_type": "code",
      "metadata": {
        "id": "3UVEpcDWZiog",
        "outputId": "dfc1976b-f652-49dc-8467-2bf9548f8cd7",
        "colab": {
          "base_uri": "https://localhost:8080/",
          "height": 282
        }
      },
      "source": [
        "# lets plot the distances as a barplot\n",
        "sns.barplot(x=comp_list, y=comps[0])\n"
      ],
      "execution_count": 73,
      "outputs": [
        {
          "output_type": "execute_result",
          "data": {
            "text/plain": [
              "<matplotlib.axes._subplots.AxesSubplot at 0x7f4872744f10>"
            ]
          },
          "metadata": {},
          "execution_count": 73
        },
        {
          "output_type": "display_data",
          "data": {
            "image/png": "[encoded data removed]",
            "text/plain": [
              "<Figure size 432x288 with 1 Axes>"
            ]
          },
          "metadata": {
            "needs_background": "light"
          }
        }
      ]
    },
    {
      "cell_type": "code",
      "metadata": {
        "id": "65pnrz-6ymLT"
      },
      "source": [
        "# so what did we see\n",
        "# it was a small test, but conceptually we saw how these vectors can be compared\n",
        "# we used distance to compare the numeric vectors and manually find the most similar\n",
        "# contrived example, but sets up the concepts"
      ],
      "execution_count": null,
      "outputs": []
    },
    {
      "cell_type": "code",
      "metadata": {
        "id": "NMfBTRJ5o-TJ",
        "outputId": "9a103140-eb01-4e28-89c0-494c5a644cc6",
        "colab": {
          "base_uri": "https://localhost:8080/"
        }
      },
      "source": [
        "doc"
      ],
      "execution_count": 74,
      "outputs": [
        {
          "output_type": "execute_result",
          "data": {
            "text/plain": [
              "That movie from email@email.com was fire! We can review it at www.bu.edu."
            ]
          },
          "metadata": {},
          "execution_count": 74
        }
      ]
    },
    {
      "cell_type": "code",
      "metadata": {
        "id": "nEXgMMb2pC9d",
        "outputId": "fd3c78b7-4e31-4387-b24d-3ef93e36457e",
        "colab": {
          "base_uri": "https://localhost:8080/"
        }
      },
      "source": [
        "[(token.text, token.is_oov) for token in doc]"
      ],
      "execution_count": 75,
      "outputs": [
        {
          "output_type": "execute_result",
          "data": {
            "text/plain": [
              "[('That', False),\n",
              " ('movie', False),\n",
              " ('from', False),\n",
              " ('email@email.com', True),\n",
              " ('was', False),\n",
              " ('fire', False),\n",
              " ('!', False),\n",
              " ('We', False),\n",
              " ('can', False),\n",
              " ('review', False),\n",
              " ('it', False),\n",
              " ('at', False),\n",
              " ('www.bu.edu', True),\n",
              " ('.', False)]"
            ]
          },
          "metadata": {},
          "execution_count": 75
        }
      ]
    },
    {
      "cell_type": "markdown",
      "metadata": {
        "id": "VXJ-eR2cpdKs"
      },
      "source": [
        "If you did a fire emoji, and tried to get the vector for 'fire' we get all 0s.  Spacey just decides to fill vecotr with 0s when the variable is unidentified."
      ]
    },
    {
      "cell_type": "code",
      "metadata": {
        "id": "h1bjlLl_0sRt"
      },
      "source": [
        "# there are some great toolkits that have been created\n",
        "# to breakdown and explore all sorts of embeddings\n",
        "\n",
        "# lots you can do here, but from some of the dev rel folks at rasa, which\n",
        "# we will briefly see next class!\n",
        "# https://github.com/RasaHQ/whatlies"
      ],
      "execution_count": null,
      "outputs": []
    },
    {
      "cell_type": "code",
      "metadata": {
        "id": "V4o0F2cI03Ds"
      },
      "source": [
        "## let's go back to the tweet\n"
      ],
      "execution_count": null,
      "outputs": []
    },
    {
      "cell_type": "code",
      "metadata": {
        "id": "SeIpB2fs2oBi"
      },
      "source": [
        "# what do we get for a token that is OOV?\n",
        "\n",
        "# nlp('🔥').vector\n",
        "\n",
        "\n"
      ],
      "execution_count": null,
      "outputs": []
    },
    {
      "cell_type": "code",
      "metadata": {
        "id": "XZ3OYN-82wA0"
      },
      "source": [
        "## what do you notice?\n",
        "## this is a convention of spacy\n",
        "## for OOV tokens, spacy doesn't fail, it simply returns an array of zeroes"
      ],
      "execution_count": null,
      "outputs": []
    },
    {
      "cell_type": "code",
      "metadata": {
        "id": "IfZlU5WZ29cZ"
      },
      "source": [
        "# lets review a doc vector\n",
        "dv = doc.vector"
      ],
      "execution_count": 78,
      "outputs": []
    },
    {
      "cell_type": "code",
      "metadata": {
        "id": "YnQWy9j-3MhY",
        "outputId": "7bc73099-c809-490e-9911-4ac143bae013",
        "colab": {
          "base_uri": "https://localhost:8080/"
        }
      },
      "source": [
        "# how do we think the doc vector is constructed?\n",
        "vecs = []\n",
        "for token in doc:\n",
        "   vecs.append(token.vector)\n",
        "\n",
        "# make it a numpy array\n",
        "va = np.array(vecs)\n",
        "\n",
        "vam = va.mean(axis=0)\n",
        "vam.shape\n",
        "\n",
        "# compare\n",
        "np.all(vam == dv)"
      ],
      "execution_count": 79,
      "outputs": [
        {
          "output_type": "execute_result",
          "data": {
            "text/plain": [
              "True"
            ]
          },
          "metadata": {},
          "execution_count": 79
        }
      ]
    },
    {
      "cell_type": "code",
      "metadata": {
        "id": "ifpZAuKW3yD1"
      },
      "source": [
        "# remember spans?\n",
        "# same still applies - token vectors are averaged over the docs and spans to represent the document"
      ],
      "execution_count": null,
      "outputs": []
    },
    {
      "cell_type": "code",
      "metadata": {
        "id": "fNfB1bGXF9X3"
      },
      "source": [
        ""
      ],
      "execution_count": null,
      "outputs": []
    },
    {
      "cell_type": "code",
      "metadata": {
        "id": "6rb-RP5G4aI7"
      },
      "source": [
        "#######################################  YOUR TURN\n",
        "## \n",
        "## scrape the text from the three articles from the URLs below\n",
        "## generate the doc vectors\n",
        "## what is the most similar article to URL1 via cosine distance?\n",
        "#\n",
        "# URL1 = \"https://www.boston.com/weather/weather/2021/11/26/boston-ma-snow-forecast-friday-nov-26-2021/\"\n",
        "# URL2 = \"https://www.sportingnews.com/us/fantasy/news/nfl-week-12-weather-updates-lack-of-rain-wind-snow-in-forecast-eases-fantasy-football-start-em-sit-em-decisions/lueadzpkttxa1l2nzyr70hr18\"\n",
        "# URL3 = \"https://www.marketwatch.com/story/the-u-s-stock-market-suffers-ugly-black-friday-selloff-here-are-the-biggest-losers-and-winners-11637952898\"\n",
        "## \n"
      ],
      "execution_count": null,
      "outputs": []
    },
    {
      "cell_type": "code",
      "metadata": {
        "id": "rm0CeBWf8eZy"
      },
      "source": [
        ""
      ],
      "execution_count": null,
      "outputs": []
    },
    {
      "cell_type": "code",
      "metadata": {
        "id": "fyjr0bgS8VdI"
      },
      "source": [
        "#######################################  UP NEXT\n",
        "## \n",
        "## Team data challenge!\n",
        "# "
      ],
      "execution_count": null,
      "outputs": []
    }
  ]
}