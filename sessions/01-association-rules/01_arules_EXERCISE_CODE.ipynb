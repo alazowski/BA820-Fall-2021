{
  "nbformat": 4,
  "nbformat_minor": 2,
  "metadata": {
    "colab": {
      "name": "01-arules-EXERCISE-CODE",
      "private_outputs": true,
      "provenance": [],
      "collapsed_sections": []
    },
    "kernelspec": {
      "name": "python3",
      "display_name": "Python 3.8.8 64-bit ('base': conda)"
    },
    "language_info": {
      "name": "python",
      "version": "3.8.8",
      "mimetype": "text/x-python",
      "codemirror_mode": {
        "name": "ipython",
        "version": 3
      },
      "pygments_lexer": "ipython3",
      "nbconvert_exporter": "python",
      "file_extension": ".py"
    },
    "interpreter": {
      "hash": "49164b14498620bfe09eb99eb014390453188796a157617b1fa1d0f8ed422666"
    }
  },
  "cells": [
    {
      "cell_type": "code",
      "execution_count": null,
      "source": [
        "# imports\n",
        "import pandas as pd\n",
        "from mlxtend.frequent_patterns import apriori, association_rules\n",
        "import numpy as np\n",
        "import seaborn as sns\n",
        "import matplotlib.pyplot as plt\n",
        "import plotly.express as px\n",
        "\n",
        "# my project in Google Cloud used\n",
        "PROJECT = \"questrom\"\n",
        "\n",
        "# some settings for pandas\n",
        "pd.options.display.max_rows=125\n",
        "pd.options.display.max_columns=100\n"
      ],
      "outputs": [],
      "metadata": {
        "id": "b4Wo4sFbKVQM"
      }
    },
    {
      "cell_type": "code",
      "execution_count": 2,
      "source": [
        "# auth against your BU GCP account \n",
        "from google.colab import auth\n",
        "auth.authenticate_user()\n",
        "print('Authenticated')"
      ],
      "outputs": [
        {
          "output_type": "error",
          "ename": "ModuleNotFoundError",
          "evalue": "No module named 'google'",
          "traceback": [
            "\u001b[0;31m---------------------------------------------------------------------------\u001b[0m",
            "\u001b[0;31mModuleNotFoundError\u001b[0m                       Traceback (most recent call last)",
            "\u001b[0;32m<ipython-input-2-95f9d32ef6a0>\u001b[0m in \u001b[0;36m<module>\u001b[0;34m\u001b[0m\n\u001b[1;32m      1\u001b[0m \u001b[0;31m# auth against your BU GCP account\u001b[0m\u001b[0;34m\u001b[0m\u001b[0;34m\u001b[0m\u001b[0;34m\u001b[0m\u001b[0m\n\u001b[0;32m----> 2\u001b[0;31m \u001b[0;32mfrom\u001b[0m \u001b[0mgoogle\u001b[0m\u001b[0;34m.\u001b[0m\u001b[0mcolab\u001b[0m \u001b[0;32mimport\u001b[0m \u001b[0mauth\u001b[0m\u001b[0;34m\u001b[0m\u001b[0;34m\u001b[0m\u001b[0m\n\u001b[0m\u001b[1;32m      3\u001b[0m \u001b[0mauth\u001b[0m\u001b[0;34m.\u001b[0m\u001b[0mauthenticate_user\u001b[0m\u001b[0;34m(\u001b[0m\u001b[0;34m)\u001b[0m\u001b[0;34m\u001b[0m\u001b[0;34m\u001b[0m\u001b[0m\n\u001b[1;32m      4\u001b[0m \u001b[0mprint\u001b[0m\u001b[0;34m(\u001b[0m\u001b[0;34m'Authenticated'\u001b[0m\u001b[0;34m)\u001b[0m\u001b[0;34m\u001b[0m\u001b[0;34m\u001b[0m\u001b[0m\n",
            "\u001b[0;31mModuleNotFoundError\u001b[0m: No module named 'google'"
          ]
        }
      ],
      "metadata": {
        "id": "UKWvf_q-U9oP"
      }
    },
    {
      "cell_type": "code",
      "execution_count": null,
      "source": [
        "# get the data from Big Query\n",
        "# select all the records  \n",
        "SQL = \"\"\"\n",
        "SELECT *\n",
        "FROM `questrom.datasets.crm_campaign`\n",
        "\"\"\"\n",
        "\n",
        "crm = pd.io.gbq.read_gbq(SQL, PROJECT)"
      ],
      "outputs": [],
      "metadata": {
        "id": "HzhNYZVLVVdv"
      }
    },
    {
      "cell_type": "code",
      "execution_count": 4,
      "source": [
        "import pandas as pd"
      ],
      "outputs": [],
      "metadata": {}
    },
    {
      "cell_type": "code",
      "execution_count": 6,
      "source": [
        "crm = pd.read_csv(\"/Users/aleksanderlazowski/Documents/GitHub/BA820-Fall-2021/datasets/crm_campaign.csv\")"
      ],
      "outputs": [],
      "metadata": {}
    },
    {
      "cell_type": "code",
      "execution_count": 16,
      "source": [
        "# what do we have\n",
        "crm.shape"
      ],
      "outputs": [
        {
          "output_type": "execute_result",
          "data": {
            "text/plain": [
              "(70529, 2)"
            ]
          },
          "metadata": {},
          "execution_count": 16
        }
      ],
      "metadata": {
        "id": "27dkHPMSVVjj"
      }
    },
    {
      "cell_type": "code",
      "execution_count": 15,
      "source": [
        "crm.head()"
      ],
      "outputs": [
        {
          "output_type": "execute_result",
          "data": {
            "text/plain": [
              "        crm_id contcode\n",
              "19  1910482189      BBA\n",
              "20   645662424      FER\n",
              "21  2892075531      FER\n",
              "22  2751211869      FER\n",
              "23  1708891228      FER"
            ],
            "text/html": [
              "<div>\n",
              "<style scoped>\n",
              "    .dataframe tbody tr th:only-of-type {\n",
              "        vertical-align: middle;\n",
              "    }\n",
              "\n",
              "    .dataframe tbody tr th {\n",
              "        vertical-align: top;\n",
              "    }\n",
              "\n",
              "    .dataframe thead th {\n",
              "        text-align: right;\n",
              "    }\n",
              "</style>\n",
              "<table border=\"1\" class=\"dataframe\">\n",
              "  <thead>\n",
              "    <tr style=\"text-align: right;\">\n",
              "      <th></th>\n",
              "      <th>crm_id</th>\n",
              "      <th>contcode</th>\n",
              "    </tr>\n",
              "  </thead>\n",
              "  <tbody>\n",
              "    <tr>\n",
              "      <th>19</th>\n",
              "      <td>1910482189</td>\n",
              "      <td>BBA</td>\n",
              "    </tr>\n",
              "    <tr>\n",
              "      <th>20</th>\n",
              "      <td>645662424</td>\n",
              "      <td>FER</td>\n",
              "    </tr>\n",
              "    <tr>\n",
              "      <th>21</th>\n",
              "      <td>2892075531</td>\n",
              "      <td>FER</td>\n",
              "    </tr>\n",
              "    <tr>\n",
              "      <th>22</th>\n",
              "      <td>2751211869</td>\n",
              "      <td>FER</td>\n",
              "    </tr>\n",
              "    <tr>\n",
              "      <th>23</th>\n",
              "      <td>1708891228</td>\n",
              "      <td>FER</td>\n",
              "    </tr>\n",
              "  </tbody>\n",
              "</table>\n",
              "</div>"
            ]
          },
          "metadata": {},
          "execution_count": 15
        }
      ],
      "metadata": {
        "id": "9czBqSD-VVnS"
      }
    },
    {
      "cell_type": "code",
      "execution_count": null,
      "source": [
        "#### Exercise 1"
      ],
      "outputs": [],
      "metadata": {
        "id": "8ZKok8uZXpLB"
      }
    },
    {
      "cell_type": "code",
      "execution_count": 9,
      "source": [
        "# first, I am going to use granular codes, not the category\n",
        "# so drop contcat\n",
        "crm.drop(columns=\"contcat\", inplace=True)\n"
      ],
      "outputs": [],
      "metadata": {
        "id": "iv_ZbX7DVVp3"
      }
    },
    {
      "cell_type": "code",
      "execution_count": 11,
      "source": [
        "# second, drop dupes if any\n",
        "crm.drop_duplicates(inplace=True)"
      ],
      "outputs": [],
      "metadata": {
        "id": "sedX5LDsXiIn"
      }
    },
    {
      "cell_type": "code",
      "execution_count": 12,
      "source": [
        "# last confirm we have missing data\n",
        "crm.isna().sum()"
      ],
      "outputs": [
        {
          "output_type": "execute_result",
          "data": {
            "text/plain": [
              "crm_id       0\n",
              "contcode    19\n",
              "dtype: int64"
            ]
          },
          "metadata": {},
          "execution_count": 12
        }
      ],
      "metadata": {
        "id": "KLs8WlAxXmra"
      }
    },
    {
      "cell_type": "code",
      "execution_count": 13,
      "source": [
        "# we will remove these records\n",
        "# even robust client data warehouses will have dirty data!\n",
        "crm.dropna(inplace=True)\n",
        "\n",
        "crm.isna().sum()"
      ],
      "outputs": [
        {
          "output_type": "execute_result",
          "data": {
            "text/plain": [
              "crm_id      0\n",
              "contcode    0\n",
              "dtype: int64"
            ]
          },
          "metadata": {},
          "execution_count": 13
        }
      ],
      "metadata": {
        "id": "yMfPmGxgXxIk"
      }
    },
    {
      "cell_type": "code",
      "execution_count": 17,
      "source": [
        "# ok, reshape\n",
        "crm['flag'] = True\n",
        "\n",
        "db = crm.pivot(index=\"crm_id\", columns=\"contcode\", values=\"flag\")\n",
        "db.fillna(False, inplace=True)\n",
        "\n",
        "db.shape"
      ],
      "outputs": [
        {
          "output_type": "execute_result",
          "data": {
            "text/plain": [
              "(51157, 108)"
            ]
          },
          "metadata": {},
          "execution_count": 17
        }
      ],
      "metadata": {
        "id": "J0J1NfGcYV9v"
      }
    },
    {
      "cell_type": "code",
      "execution_count": null,
      "source": [
        "#### Exercise 2"
      ],
      "outputs": [],
      "metadata": {
        "id": "JBS7lXZdaJIe"
      }
    },
    {
      "cell_type": "code",
      "execution_count": 18,
      "source": [
        "# a quick glimpse\n",
        "db.head(3)"
      ],
      "outputs": [
        {
          "output_type": "execute_result",
          "data": {
            "text/plain": [
              "contcode    ABR    ACT    APN    ATH    BAE    BBA    BCL    BOT    BSE  \\\n",
              "crm_id                                                                    \n",
              "39399     False  False  False  False  False  False  False  False  False   \n",
              "65193     False  False  False  False  False  False  False  False  False   \n",
              "67182     False  False  False  False  False  False  False  False  False   \n",
              "\n",
              "contcode    BXE  ...    WTT    WWF    WWI    WWL    WWM    WWP    WWR    WWT  \\\n",
              "crm_id           ...                                                           \n",
              "39399     False  ...  False  False  False  False  False  False  False  False   \n",
              "65193     False  ...  False  False  False  False  False  False  False  False   \n",
              "67182     False  ...  False  False  False  False  False  False  False  False   \n",
              "\n",
              "contcode    WZF    WZT  \n",
              "crm_id                  \n",
              "39399     False  False  \n",
              "65193     False  False  \n",
              "67182     False  False  \n",
              "\n",
              "[3 rows x 108 columns]"
            ],
            "text/html": [
              "<div>\n",
              "<style scoped>\n",
              "    .dataframe tbody tr th:only-of-type {\n",
              "        vertical-align: middle;\n",
              "    }\n",
              "\n",
              "    .dataframe tbody tr th {\n",
              "        vertical-align: top;\n",
              "    }\n",
              "\n",
              "    .dataframe thead th {\n",
              "        text-align: right;\n",
              "    }\n",
              "</style>\n",
              "<table border=\"1\" class=\"dataframe\">\n",
              "  <thead>\n",
              "    <tr style=\"text-align: right;\">\n",
              "      <th>contcode</th>\n",
              "      <th>ABR</th>\n",
              "      <th>ACT</th>\n",
              "      <th>APN</th>\n",
              "      <th>ATH</th>\n",
              "      <th>BAE</th>\n",
              "      <th>BBA</th>\n",
              "      <th>BCL</th>\n",
              "      <th>BOT</th>\n",
              "      <th>BSE</th>\n",
              "      <th>BXE</th>\n",
              "      <th>...</th>\n",
              "      <th>WTT</th>\n",
              "      <th>WWF</th>\n",
              "      <th>WWI</th>\n",
              "      <th>WWL</th>\n",
              "      <th>WWM</th>\n",
              "      <th>WWP</th>\n",
              "      <th>WWR</th>\n",
              "      <th>WWT</th>\n",
              "      <th>WZF</th>\n",
              "      <th>WZT</th>\n",
              "    </tr>\n",
              "    <tr>\n",
              "      <th>crm_id</th>\n",
              "      <th></th>\n",
              "      <th></th>\n",
              "      <th></th>\n",
              "      <th></th>\n",
              "      <th></th>\n",
              "      <th></th>\n",
              "      <th></th>\n",
              "      <th></th>\n",
              "      <th></th>\n",
              "      <th></th>\n",
              "      <th></th>\n",
              "      <th></th>\n",
              "      <th></th>\n",
              "      <th></th>\n",
              "      <th></th>\n",
              "      <th></th>\n",
              "      <th></th>\n",
              "      <th></th>\n",
              "      <th></th>\n",
              "      <th></th>\n",
              "      <th></th>\n",
              "    </tr>\n",
              "  </thead>\n",
              "  <tbody>\n",
              "    <tr>\n",
              "      <th>39399</th>\n",
              "      <td>False</td>\n",
              "      <td>False</td>\n",
              "      <td>False</td>\n",
              "      <td>False</td>\n",
              "      <td>False</td>\n",
              "      <td>False</td>\n",
              "      <td>False</td>\n",
              "      <td>False</td>\n",
              "      <td>False</td>\n",
              "      <td>False</td>\n",
              "      <td>...</td>\n",
              "      <td>False</td>\n",
              "      <td>False</td>\n",
              "      <td>False</td>\n",
              "      <td>False</td>\n",
              "      <td>False</td>\n",
              "      <td>False</td>\n",
              "      <td>False</td>\n",
              "      <td>False</td>\n",
              "      <td>False</td>\n",
              "      <td>False</td>\n",
              "    </tr>\n",
              "    <tr>\n",
              "      <th>65193</th>\n",
              "      <td>False</td>\n",
              "      <td>False</td>\n",
              "      <td>False</td>\n",
              "      <td>False</td>\n",
              "      <td>False</td>\n",
              "      <td>False</td>\n",
              "      <td>False</td>\n",
              "      <td>False</td>\n",
              "      <td>False</td>\n",
              "      <td>False</td>\n",
              "      <td>...</td>\n",
              "      <td>False</td>\n",
              "      <td>False</td>\n",
              "      <td>False</td>\n",
              "      <td>False</td>\n",
              "      <td>False</td>\n",
              "      <td>False</td>\n",
              "      <td>False</td>\n",
              "      <td>False</td>\n",
              "      <td>False</td>\n",
              "      <td>False</td>\n",
              "    </tr>\n",
              "    <tr>\n",
              "      <th>67182</th>\n",
              "      <td>False</td>\n",
              "      <td>False</td>\n",
              "      <td>False</td>\n",
              "      <td>False</td>\n",
              "      <td>False</td>\n",
              "      <td>False</td>\n",
              "      <td>False</td>\n",
              "      <td>False</td>\n",
              "      <td>False</td>\n",
              "      <td>False</td>\n",
              "      <td>...</td>\n",
              "      <td>False</td>\n",
              "      <td>False</td>\n",
              "      <td>False</td>\n",
              "      <td>False</td>\n",
              "      <td>False</td>\n",
              "      <td>False</td>\n",
              "      <td>False</td>\n",
              "      <td>False</td>\n",
              "      <td>False</td>\n",
              "      <td>False</td>\n",
              "    </tr>\n",
              "  </tbody>\n",
              "</table>\n",
              "<p>3 rows × 108 columns</p>\n",
              "</div>"
            ]
          },
          "metadata": {},
          "execution_count": 18
        }
      ],
      "metadata": {
        "id": "s8VgwC3mYq4A"
      }
    },
    {
      "cell_type": "code",
      "execution_count": 19,
      "source": [
        "# lets review how many \"converted\" via the CMO marketing code\n",
        "converted = db.CMO.sum() \n",
        "print(converted)\n",
        "db.CMO.mean()"
      ],
      "outputs": [
        {
          "output_type": "stream",
          "name": "stdout",
          "text": [
            "7351\n"
          ]
        },
        {
          "output_type": "execute_result",
          "data": {
            "text/plain": [
              "0.14369490001368337"
            ]
          },
          "metadata": {},
          "execution_count": 19
        }
      ],
      "metadata": {
        "id": "FD5W6yECaERS"
      }
    },
    {
      "cell_type": "code",
      "execution_count": 20,
      "source": [
        "#2 ten most frequent interactions\n",
        "interactions = db.sum(axis=0)\n",
        "interactions.sort_values(ascending=False)[:10]"
      ],
      "outputs": [
        {
          "output_type": "execute_result",
          "data": {
            "text/plain": [
              "contcode\n",
              "CMO    7351\n",
              "SPN    5215\n",
              "SPE    5147\n",
              "IPF    3972\n",
              "LON    3451\n",
              "LOS    3362\n",
              "TSA    2792\n",
              "VSI    2274\n",
              "WTT    2256\n",
              "APN    2219\n",
              "dtype: int64"
            ]
          },
          "metadata": {},
          "execution_count": 20
        }
      ],
      "metadata": {
        "id": "yz7LFUxZadoY"
      }
    },
    {
      "cell_type": "code",
      "execution_count": null,
      "source": [
        "#3 avg number of transcations\n",
        "user_ints = db.sum(axis=1)\n",
        "user_ints.mean() "
      ],
      "outputs": [],
      "metadata": {
        "id": "ZpKvVROYakFU"
      }
    },
    {
      "cell_type": "code",
      "execution_count": null,
      "source": [
        "#4 item frequency\n",
        "interactions_f = interactions / len(db)\n",
        "\n",
        "interactions_f.sort_values(ascending=False, inplace=True)\n",
        "\n",
        "sns.lineplot(range(len(interactions_f)), interactions_f.values)"
      ],
      "outputs": [],
      "metadata": {
        "id": "VngFMddXbTxs"
      }
    },
    {
      "cell_type": "code",
      "execution_count": null,
      "source": [
        "#### Exercise 3"
      ],
      "outputs": [],
      "metadata": {
        "id": "anN8bMeLbfGH"
      }
    },
    {
      "cell_type": "code",
      "execution_count": null,
      "source": [
        "itemsets = apriori(db, min_support=.0002, use_colnames=True)\n",
        "\n",
        "rules = association_rules(itemsets, metric=\"support\", min_threshold=.0002)"
      ],
      "outputs": [],
      "metadata": {
        "id": "zfIFK0otcA5O"
      }
    },
    {
      "cell_type": "code",
      "execution_count": null,
      "source": [
        "#### Exercise 4"
      ],
      "outputs": [],
      "metadata": {
        "id": "lPLjAFeYcVar"
      }
    },
    {
      "cell_type": "code",
      "execution_count": null,
      "source": [
        "# a quick review across the outputs\n",
        "rules.describe()"
      ],
      "outputs": [],
      "metadata": {
        "id": "4eWqtx98cZCB"
      }
    },
    {
      "cell_type": "code",
      "execution_count": null,
      "source": [
        "# sample 10 rules\n",
        "rules.sample(10).head()"
      ],
      "outputs": [],
      "metadata": {
        "id": "iV0LhSh0dF5o"
      }
    },
    {
      "cell_type": "code",
      "execution_count": null,
      "source": [
        "# top 10 lift\n",
        "rules.sort_values(\"lift\", ascending=False).head(10)"
      ],
      "outputs": [],
      "metadata": {
        "id": "mu1gWrQLdcaI"
      }
    },
    {
      "cell_type": "code",
      "execution_count": null,
      "source": [
        "# top 10 on count\n",
        "# we can work backwards\n",
        "rules['count'] = rules.support * len(db)\n",
        "\n",
        "rules.sort_values('count', ascending=False).head(10)"
      ],
      "outputs": [],
      "metadata": {
        "id": "UALm3MJkewSZ"
      }
    },
    {
      "cell_type": "code",
      "execution_count": null,
      "source": [
        "# keep just those with 6 on the LHS\n",
        "# rules that always hold have infinite conviction \n",
        "# https://michael.hahsler.net/research/association_rules/measures.html#conviction\n",
        "rules['lhs_len'] = rules.antecedents.apply(lambda x: len(x))\n",
        "\n",
        "rules.loc[rules.lhs_len == 6, :].shape"
      ],
      "outputs": [],
      "metadata": {
        "id": "3w9fzPIvfGU8"
      }
    },
    {
      "cell_type": "code",
      "execution_count": null,
      "source": [
        "rules.loc[rules.lhs_len == 6, :].sample(5)"
      ],
      "outputs": [],
      "metadata": {
        "id": "nV46Q73NfIAi"
      }
    },
    {
      "cell_type": "code",
      "execution_count": null,
      "source": [
        "#### Exercise 5"
      ],
      "outputs": [],
      "metadata": {
        "id": "RoU4BmxignvD"
      }
    },
    {
      "cell_type": "code",
      "execution_count": null,
      "source": [
        "# make a copy\n",
        "strategy = rules.copy()\n",
        "\n",
        "# calc rhs length\n",
        "strategy['rhs_len'] = strategy.consequents.apply(lambda x: len(x))"
      ],
      "outputs": [],
      "metadata": {
        "id": "_NZde8TLhaLo"
      }
    },
    {
      "cell_type": "code",
      "execution_count": null,
      "source": [
        "# keep jus the rules with the sales conversion on the right\n",
        "ROWS = np.where((strategy.consequents=={'CMO'}) & (strategy.rhs_len == 1))\n",
        "\n",
        "strategy = strategy.iloc[ROWS[0], :]"
      ],
      "outputs": [],
      "metadata": {
        "id": "IwxRt5OMhdPG"
      }
    },
    {
      "cell_type": "code",
      "execution_count": null,
      "source": [
        "# confirm this is what we intended\n",
        "strategy.shape\n",
        "\n",
        "strategy.head()"
      ],
      "outputs": [],
      "metadata": {
        "id": "aHV2pXAPiAF7"
      }
    },
    {
      "cell_type": "code",
      "execution_count": null,
      "source": [
        "# explore -- long sales pipelines == many interactions on the LHS\n",
        "\n",
        "strategy.sort_values('lhs_len', ascending=False).head(10)"
      ],
      "outputs": [],
      "metadata": {
        "id": "6QXNzeZQiNgt"
      }
    },
    {
      "cell_type": "code",
      "execution_count": null,
      "source": [
        "# some plots\n",
        "\n",
        "sns.scatterplot(data=strategy, x=\"support\", y=\"confidence\", hue=\"lift\")"
      ],
      "outputs": [],
      "metadata": {
        "id": "MbCRm3fxiOwK"
      }
    },
    {
      "cell_type": "code",
      "execution_count": null,
      "source": [
        "# number of lhs items balanced against support\n",
        "sns.boxplot(data=strategy, x=\"lhs_len\", y=\"confidence\", color=\"grey\")\n",
        "\n",
        "## what does this suggest about a customers interactions WHEN, we know that they converted?"
      ],
      "outputs": [],
      "metadata": {
        "id": "yXTLP5eCjgFS"
      }
    },
    {
      "cell_type": "code",
      "execution_count": null,
      "source": [
        "# fastest path\n",
        "rule1 = strategy.loc[strategy.lhs_len == 1, :]\n",
        "rule1.sort_values(\"lift\", ascending=False, inplace=True)\n",
        "\n",
        "rule1.head(10)"
      ],
      "outputs": [],
      "metadata": {
        "id": "FgZ86XK_jzc6"
      }
    },
    {
      "cell_type": "code",
      "execution_count": null,
      "source": [
        "# above, you might recommend flagging those that only have TSA interaction\n",
        "# or to provide options, by say, filtering on sample size > 500?"
      ],
      "outputs": [],
      "metadata": {
        "id": "RHiGu612kdNx"
      }
    }
  ]
}