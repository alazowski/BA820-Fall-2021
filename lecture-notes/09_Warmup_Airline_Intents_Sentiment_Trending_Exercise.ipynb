{
  "nbformat": 4,
  "nbformat_minor": 2,
  "metadata": {
    "colab": {
      "name": "09 - Warmup - Airline Intents - Sentiment Trending Exercise",
      "private_outputs": true,
      "provenance": [],
      "collapsed_sections": []
    },
    "kernelspec": {
      "name": "python3",
      "display_name": "Python 3.8.11 64-bit ('ba820': conda)"
    },
    "language_info": {
      "name": "python",
      "version": "3.8.11",
      "mimetype": "text/x-python",
      "codemirror_mode": {
        "name": "ipython",
        "version": 3
      },
      "pygments_lexer": "ipython3",
      "nbconvert_exporter": "python",
      "file_extension": ".py"
    },
    "interpreter": {
      "hash": "fb0df2a6d45dc2fd3a60db5396cf206fa309f702b10dbd4eecd26c68cccb6498"
    }
  },
  "cells": [
    {
      "cell_type": "code",
      "execution_count": null,
      "source": [
        "! pip install umap-learn"
      ],
      "outputs": [],
      "metadata": {
        "id": "G4y54La9cbFj"
      }
    },
    {
      "cell_type": "code",
      "execution_count": 2,
      "source": [
        "import pandas as pd\n",
        "from umap import UMAP"
      ],
      "outputs": [],
      "metadata": {
        "id": "Ije_z66Jcgha"
      }
    },
    {
      "cell_type": "code",
      "execution_count": null,
      "source": [
        "SQL = \"SELECT * from `questrom.datasets.airline-intents` where intent in ('atis_airfare', 'atis_ground_service', 'atis_airline', 'atis_abbreviation')\"\n",
        "msgs = pd.read_gbq(SQL, \"questrom\")"
      ],
      "outputs": [],
      "metadata": {
        "id": "jYo64r0ucd-a"
      }
    },
    {
      "cell_type": "code",
      "execution_count": null,
      "source": [
        "msgs.head(3)"
      ],
      "outputs": [],
      "metadata": {
        "id": "JSXpOtFmdSOb"
      }
    },
    {
      "cell_type": "code",
      "execution_count": 3,
      "source": [
        "# vectorize the data\n",
        "from sklearn.feature_extraction.text import CountVectorizer, TfidfVectorizer\n",
        "\n"
      ],
      "outputs": [],
      "metadata": {
        "id": "lgsf2ExmclZh"
      }
    },
    {
      "cell_type": "code",
      "execution_count": null,
      "source": [
        "# vectorize the data\n",
        "tf = TfidfVectorizer()\n",
        "tf.fit(msgs.text)\n",
        "\n",
        "dtm = tf.transform(msgs.text)\n",
        "\n",
        "\n"
      ],
      "outputs": [],
      "metadata": {
        "id": "w0FvvzSRdJqE"
      }
    },
    {
      "cell_type": "code",
      "execution_count": null,
      "source": [
        "type(dtm)"
      ],
      "outputs": [],
      "metadata": {
        "id": "-0NY9wIpjQ6r"
      }
    },
    {
      "cell_type": "code",
      "execution_count": null,
      "source": [
        "dtm.shape"
      ],
      "outputs": [],
      "metadata": {
        "id": "24-8i_YLjSMX"
      }
    },
    {
      "cell_type": "code",
      "execution_count": null,
      "source": [
        "# umap for DR\n",
        "\n",
        "umap = UMAP(random_state=820)\n",
        "embeds = umap.fit_transform(dtm)\n"
      ],
      "outputs": [],
      "metadata": {
        "id": "tV-ufqckclg8"
      }
    },
    {
      "cell_type": "code",
      "execution_count": null,
      "source": [
        "type(embeds)"
      ],
      "outputs": [],
      "metadata": {
        "id": "CjnOS2K5d9lm"
      }
    },
    {
      "cell_type": "code",
      "execution_count": null,
      "source": [
        "embeds.shape"
      ],
      "outputs": [],
      "metadata": {
        "id": "u-iH35Xwd-vD"
      }
    },
    {
      "cell_type": "code",
      "execution_count": null,
      "source": [
        "msgs.shape"
      ],
      "outputs": [],
      "metadata": {
        "id": "W9jyxEZ6eAgE"
      }
    },
    {
      "cell_type": "code",
      "execution_count": null,
      "source": [
        "# scatterplot for viz\n",
        "import seaborn as sns"
      ],
      "outputs": [],
      "metadata": {
        "id": "AG4QGziVclkH"
      }
    },
    {
      "cell_type": "code",
      "execution_count": null,
      "source": [
        "# plot it up\n",
        "sns.scatterplot(x=embeds[:, 0], y=embeds[:, 1], hue=msgs.intent)\n"
      ],
      "outputs": [],
      "metadata": {
        "id": "RUBHmy81eG2x"
      }
    },
    {
      "cell_type": "code",
      "execution_count": null,
      "source": [],
      "outputs": [],
      "metadata": {
        "id": "Rpr_LcBMeZA2"
      }
    },
    {
      "cell_type": "code",
      "execution_count": null,
      "source": [],
      "outputs": [],
      "metadata": {
        "id": "9fEpOqqiznY5"
      }
    },
    {
      "cell_type": "code",
      "execution_count": null,
      "source": [],
      "outputs": [],
      "metadata": {
        "id": "fRTstUCyzncO"
      }
    },
    {
      "cell_type": "code",
      "execution_count": 7,
      "source": [
        "##  there is a table on big query\n",
        "##  questrom.datasets.bruins_twitter\n",
        "##\n",
        "##  get the records where the hour is 0,1,2,3\n",
        "##  this is not a select *, you have to filter records\n",
        "##  - TRICKY: apply afinn sentiment to each record\n",
        "##  - ensure that the data sorted by status_id\n",
        "##  - plot the sentiment score over the records (this is a timeseries - like view)\n",
        "##  - calculate the average sentiment by hour\n",
        "##\n",
        "##\n",
        "\n",
        "SQL = \"SELECT * from `questrom.datasets.bruins_twitter`\"\n",
        "tweets = pd.read_gbq(SQL, \"ba-820-business-analytics\")"
      ],
      "outputs": [],
      "metadata": {
        "id": "vLzJoYdeznef"
      }
    },
    {
      "cell_type": "code",
      "execution_count": 8,
      "source": [
        "# a quick look\n",
        "tweets.sample(3)"
      ],
      "outputs": [
        {
          "output_type": "execute_result",
          "data": {
            "text/plain": [
              "                status_id            created_at  \\\n",
              "2720  1204183214610436096  2019-12-09T23:37:05Z   \n",
              "7522  1204928230572068864  2019-12-12T00:57:31Z   \n",
              "8622  1204191006079541253  2019-12-10T00:08:03Z   \n",
              "\n",
              "                                                   text               source  \\\n",
              "2720  Decade In Review: 2013 was about #BostonStrong...   Twitter for iPhone   \n",
              "7522  20 minutes in the books.\\n\\n#NHLBruins https:/...  Twitter for Android   \n",
              "8622  To the rink.\\n\\n#NHLBruins https://t.co/M1v6rM...   Twitter for iPhone   \n",
              "\n",
              "      hour  minute  day  \n",
              "2720    23      37    9  \n",
              "7522     0      57   12  \n",
              "8622     0       8   10  "
            ],
            "text/html": [
              "<div>\n",
              "<style scoped>\n",
              "    .dataframe tbody tr th:only-of-type {\n",
              "        vertical-align: middle;\n",
              "    }\n",
              "\n",
              "    .dataframe tbody tr th {\n",
              "        vertical-align: top;\n",
              "    }\n",
              "\n",
              "    .dataframe thead th {\n",
              "        text-align: right;\n",
              "    }\n",
              "</style>\n",
              "<table border=\"1\" class=\"dataframe\">\n",
              "  <thead>\n",
              "    <tr style=\"text-align: right;\">\n",
              "      <th></th>\n",
              "      <th>status_id</th>\n",
              "      <th>created_at</th>\n",
              "      <th>text</th>\n",
              "      <th>source</th>\n",
              "      <th>hour</th>\n",
              "      <th>minute</th>\n",
              "      <th>day</th>\n",
              "    </tr>\n",
              "  </thead>\n",
              "  <tbody>\n",
              "    <tr>\n",
              "      <th>2720</th>\n",
              "      <td>1204183214610436096</td>\n",
              "      <td>2019-12-09T23:37:05Z</td>\n",
              "      <td>Decade In Review: 2013 was about #BostonStrong...</td>\n",
              "      <td>Twitter for iPhone</td>\n",
              "      <td>23</td>\n",
              "      <td>37</td>\n",
              "      <td>9</td>\n",
              "    </tr>\n",
              "    <tr>\n",
              "      <th>7522</th>\n",
              "      <td>1204928230572068864</td>\n",
              "      <td>2019-12-12T00:57:31Z</td>\n",
              "      <td>20 minutes in the books.\\n\\n#NHLBruins https:/...</td>\n",
              "      <td>Twitter for Android</td>\n",
              "      <td>0</td>\n",
              "      <td>57</td>\n",
              "      <td>12</td>\n",
              "    </tr>\n",
              "    <tr>\n",
              "      <th>8622</th>\n",
              "      <td>1204191006079541253</td>\n",
              "      <td>2019-12-10T00:08:03Z</td>\n",
              "      <td>To the rink.\\n\\n#NHLBruins https://t.co/M1v6rM...</td>\n",
              "      <td>Twitter for iPhone</td>\n",
              "      <td>0</td>\n",
              "      <td>8</td>\n",
              "      <td>10</td>\n",
              "    </tr>\n",
              "  </tbody>\n",
              "</table>\n",
              "</div>"
            ]
          },
          "metadata": {},
          "execution_count": 8
        }
      ],
      "metadata": {
        "id": "mmRftIkXzoHu"
      }
    },
    {
      "cell_type": "code",
      "execution_count": 9,
      "source": [
        "# info of the dataset\n",
        "tweets.info()"
      ],
      "outputs": [
        {
          "output_type": "stream",
          "name": "stdout",
          "text": [
            "<class 'pandas.core.frame.DataFrame'>\n",
            "RangeIndex: 10724 entries, 0 to 10723\n",
            "Data columns (total 7 columns):\n",
            " #   Column      Non-Null Count  Dtype \n",
            "---  ------      --------------  ----- \n",
            " 0   status_id   10724 non-null  int64 \n",
            " 1   created_at  10724 non-null  object\n",
            " 2   text        10724 non-null  object\n",
            " 3   source      10724 non-null  object\n",
            " 4   hour        10724 non-null  int64 \n",
            " 5   minute      10724 non-null  int64 \n",
            " 6   day         10724 non-null  int64 \n",
            "dtypes: int64(4), object(3)\n",
            "memory usage: 586.6+ KB\n"
          ]
        }
      ],
      "metadata": {
        "id": "P0-Yl6Nkzq7b"
      }
    },
    {
      "cell_type": "code",
      "execution_count": null,
      "source": [
        "! pip install afinn"
      ],
      "outputs": [],
      "metadata": {
        "id": "xzVORspfz_Qw"
      }
    },
    {
      "cell_type": "code",
      "execution_count": 10,
      "source": [
        "# apply the sentiment over all of the records\n",
        "from afinn import Afinn\n",
        "\n",
        "afinn = Afinn()\n",
        "\n",
        "# function\n",
        "def sentiment(text):\n",
        "  return afinn.score(text)\n",
        "\n"
      ],
      "outputs": [],
      "metadata": {
        "id": "23r-0pVRzynR"
      }
    },
    {
      "cell_type": "code",
      "execution_count": 11,
      "source": [
        "# apply the sentiment score\n",
        "tweets['sent'] = tweets.text.apply(sentiment)"
      ],
      "outputs": [],
      "metadata": {
        "id": "ErcSJdt10Fps"
      }
    },
    {
      "cell_type": "code",
      "execution_count": 13,
      "source": [
        "tweets.head(10)"
      ],
      "outputs": [
        {
          "output_type": "execute_result",
          "data": {
            "text/plain": [
              "             status_id            created_at  \\\n",
              "0  1204113478518288385  2019-12-09T18:59:59Z   \n",
              "1  1204115033443241992  2019-12-09T19:06:10Z   \n",
              "2  1204115626597462018  2019-12-09T19:08:31Z   \n",
              "3  1204116299930120193  2019-12-09T19:11:11Z   \n",
              "4  1204116764931641345  2019-12-09T19:13:02Z   \n",
              "5  1204118852893847552  2019-12-09T19:21:20Z   \n",
              "6  1204129128594726922  2019-12-09T20:02:10Z   \n",
              "7  1204136907204104193  2019-12-09T20:33:05Z   \n",
              "8  1204141617667596288  2019-12-09T20:51:48Z   \n",
              "9  1204157277495865344  2019-12-09T21:54:01Z   \n",
              "\n",
              "                                                text  \\\n",
              "0  Cleared Waivers\\nSteven Kampfer (D) | Boston B...   \n",
              "1  #NHLBruins center Patrice Bergeron is set to r...   \n",
              "2  IR → NHL\\nPatrice Bergeron (C) | Boston Bruins...   \n",
              "3  Steven Kampfer: Has been reassigned to the AHL...   \n",
              "4  Bruins at Senators 12/9/19 - #NHL Picks &amp; ...   \n",
              "5  #NHLBruins center Patrice Bergeron speaks on h...   \n",
              "6  NOW AIRING - @BigBadBruinsPod w/ @iglen31 and ...   \n",
              "7  Refs Dan O'Halloran and Kelly Sutherland work ...   \n",
              "8  Patrice Bergeron returns to the lineup tonight...   \n",
              "9  Las Vegas Odds &amp; #NHLPicks and Parlays by ...   \n",
              "\n",
              "                     source  hour  minute  day  sent  \n",
              "0  CapFriendly Transactions    18      59    9   1.0  \n",
              "1      Twitter Media Studio    19       6    9   0.0  \n",
              "2  CapFriendly Transactions    19       8    9   0.0  \n",
              "3  Left Wing Lock News Feed    19      11    9   0.0  \n",
              "4                    Buffer    19      13    9   0.0  \n",
              "5      Twitter Media Studio    19      21    9  -2.0  \n",
              "6      Radio.co now playing    20       2    9   4.0  \n",
              "7              Postcron App    20      33    9   0.0  \n",
              "8      Twitter Media Studio    20      51    9   0.0  \n",
              "9             Sprout Social    21      54    9   0.0  "
            ],
            "text/html": [
              "<div>\n",
              "<style scoped>\n",
              "    .dataframe tbody tr th:only-of-type {\n",
              "        vertical-align: middle;\n",
              "    }\n",
              "\n",
              "    .dataframe tbody tr th {\n",
              "        vertical-align: top;\n",
              "    }\n",
              "\n",
              "    .dataframe thead th {\n",
              "        text-align: right;\n",
              "    }\n",
              "</style>\n",
              "<table border=\"1\" class=\"dataframe\">\n",
              "  <thead>\n",
              "    <tr style=\"text-align: right;\">\n",
              "      <th></th>\n",
              "      <th>status_id</th>\n",
              "      <th>created_at</th>\n",
              "      <th>text</th>\n",
              "      <th>source</th>\n",
              "      <th>hour</th>\n",
              "      <th>minute</th>\n",
              "      <th>day</th>\n",
              "      <th>sent</th>\n",
              "    </tr>\n",
              "  </thead>\n",
              "  <tbody>\n",
              "    <tr>\n",
              "      <th>0</th>\n",
              "      <td>1204113478518288385</td>\n",
              "      <td>2019-12-09T18:59:59Z</td>\n",
              "      <td>Cleared Waivers\\nSteven Kampfer (D) | Boston B...</td>\n",
              "      <td>CapFriendly Transactions</td>\n",
              "      <td>18</td>\n",
              "      <td>59</td>\n",
              "      <td>9</td>\n",
              "      <td>1.0</td>\n",
              "    </tr>\n",
              "    <tr>\n",
              "      <th>1</th>\n",
              "      <td>1204115033443241992</td>\n",
              "      <td>2019-12-09T19:06:10Z</td>\n",
              "      <td>#NHLBruins center Patrice Bergeron is set to r...</td>\n",
              "      <td>Twitter Media Studio</td>\n",
              "      <td>19</td>\n",
              "      <td>6</td>\n",
              "      <td>9</td>\n",
              "      <td>0.0</td>\n",
              "    </tr>\n",
              "    <tr>\n",
              "      <th>2</th>\n",
              "      <td>1204115626597462018</td>\n",
              "      <td>2019-12-09T19:08:31Z</td>\n",
              "      <td>IR → NHL\\nPatrice Bergeron (C) | Boston Bruins...</td>\n",
              "      <td>CapFriendly Transactions</td>\n",
              "      <td>19</td>\n",
              "      <td>8</td>\n",
              "      <td>9</td>\n",
              "      <td>0.0</td>\n",
              "    </tr>\n",
              "    <tr>\n",
              "      <th>3</th>\n",
              "      <td>1204116299930120193</td>\n",
              "      <td>2019-12-09T19:11:11Z</td>\n",
              "      <td>Steven Kampfer: Has been reassigned to the AHL...</td>\n",
              "      <td>Left Wing Lock News Feed</td>\n",
              "      <td>19</td>\n",
              "      <td>11</td>\n",
              "      <td>9</td>\n",
              "      <td>0.0</td>\n",
              "    </tr>\n",
              "    <tr>\n",
              "      <th>4</th>\n",
              "      <td>1204116764931641345</td>\n",
              "      <td>2019-12-09T19:13:02Z</td>\n",
              "      <td>Bruins at Senators 12/9/19 - #NHL Picks &amp;amp; ...</td>\n",
              "      <td>Buffer</td>\n",
              "      <td>19</td>\n",
              "      <td>13</td>\n",
              "      <td>9</td>\n",
              "      <td>0.0</td>\n",
              "    </tr>\n",
              "    <tr>\n",
              "      <th>5</th>\n",
              "      <td>1204118852893847552</td>\n",
              "      <td>2019-12-09T19:21:20Z</td>\n",
              "      <td>#NHLBruins center Patrice Bergeron speaks on h...</td>\n",
              "      <td>Twitter Media Studio</td>\n",
              "      <td>19</td>\n",
              "      <td>21</td>\n",
              "      <td>9</td>\n",
              "      <td>-2.0</td>\n",
              "    </tr>\n",
              "    <tr>\n",
              "      <th>6</th>\n",
              "      <td>1204129128594726922</td>\n",
              "      <td>2019-12-09T20:02:10Z</td>\n",
              "      <td>NOW AIRING - @BigBadBruinsPod w/ @iglen31 and ...</td>\n",
              "      <td>Radio.co now playing</td>\n",
              "      <td>20</td>\n",
              "      <td>2</td>\n",
              "      <td>9</td>\n",
              "      <td>4.0</td>\n",
              "    </tr>\n",
              "    <tr>\n",
              "      <th>7</th>\n",
              "      <td>1204136907204104193</td>\n",
              "      <td>2019-12-09T20:33:05Z</td>\n",
              "      <td>Refs Dan O'Halloran and Kelly Sutherland work ...</td>\n",
              "      <td>Postcron App</td>\n",
              "      <td>20</td>\n",
              "      <td>33</td>\n",
              "      <td>9</td>\n",
              "      <td>0.0</td>\n",
              "    </tr>\n",
              "    <tr>\n",
              "      <th>8</th>\n",
              "      <td>1204141617667596288</td>\n",
              "      <td>2019-12-09T20:51:48Z</td>\n",
              "      <td>Patrice Bergeron returns to the lineup tonight...</td>\n",
              "      <td>Twitter Media Studio</td>\n",
              "      <td>20</td>\n",
              "      <td>51</td>\n",
              "      <td>9</td>\n",
              "      <td>0.0</td>\n",
              "    </tr>\n",
              "    <tr>\n",
              "      <th>9</th>\n",
              "      <td>1204157277495865344</td>\n",
              "      <td>2019-12-09T21:54:01Z</td>\n",
              "      <td>Las Vegas Odds &amp;amp; #NHLPicks and Parlays by ...</td>\n",
              "      <td>Sprout Social</td>\n",
              "      <td>21</td>\n",
              "      <td>54</td>\n",
              "      <td>9</td>\n",
              "      <td>0.0</td>\n",
              "    </tr>\n",
              "  </tbody>\n",
              "</table>\n",
              "</div>"
            ]
          },
          "metadata": {},
          "execution_count": 13
        }
      ],
      "metadata": {
        "id": "XLw19VNA0ZEj"
      }
    },
    {
      "cell_type": "code",
      "execution_count": 14,
      "source": [
        "# describe\n",
        "tweets.sent.describe()"
      ],
      "outputs": [
        {
          "output_type": "execute_result",
          "data": {
            "text/plain": [
              "count    10724.000000\n",
              "mean         0.834297\n",
              "std          2.927782\n",
              "min        -20.000000\n",
              "25%          0.000000\n",
              "50%          0.000000\n",
              "75%          2.000000\n",
              "max         26.000000\n",
              "Name: sent, dtype: float64"
            ]
          },
          "metadata": {},
          "execution_count": 14
        }
      ],
      "metadata": {
        "id": "YC104-bE0bFg"
      }
    },
    {
      "cell_type": "code",
      "execution_count": 15,
      "source": [
        "# plot sentiment over time\n",
        "tweets.sort_values(\"status_id\", ascending=True, inplace=True)\n",
        "\n",
        "# properly handle the datetime\n",
        "tweets['created'] = pd.to_datetime(tweets.created_at)"
      ],
      "outputs": [],
      "metadata": {
        "id": "zbPbrzSm0fQH"
      }
    },
    {
      "cell_type": "code",
      "execution_count": null,
      "source": [
        "# plot\n",
        "sns.lineplot(x=tweets.index, y=tweets.sent)\n"
      ],
      "outputs": [],
      "metadata": {
        "id": "_4yla-H01HpH"
      }
    },
    {
      "cell_type": "code",
      "execution_count": null,
      "source": [
        "sns.lineplot(x=tweets.created, y=tweets.sent)"
      ],
      "outputs": [],
      "metadata": {
        "id": "3czEp-tm1OHe"
      }
    },
    {
      "cell_type": "code",
      "execution_count": null,
      "source": [
        "# aggregate by hour\n",
        "tweets.groupby(\"hour\").agg({'sent':['size', 'mean']})"
      ],
      "outputs": [],
      "metadata": {
        "id": "22S_liSH1nKb"
      }
    },
    {
      "cell_type": "code",
      "execution_count": null,
      "source": [],
      "outputs": [],
      "metadata": {
        "id": "K8Bof54W1_Bo"
      }
    }
  ]
}